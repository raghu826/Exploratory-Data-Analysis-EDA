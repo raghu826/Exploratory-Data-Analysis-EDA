{
 "cells": [
  {
   "cell_type": "markdown",
   "metadata": {
    "papermill": {
     "duration": 0.017497,
     "end_time": "2021-03-23T23:07:52.130023",
     "exception": false,
     "start_time": "2021-03-23T23:07:52.112526",
     "status": "completed"
    },
    "tags": []
   },
   "source": [
    "# COVID 19 effect on India\n",
    "\n",
    "From the past one year, world is facing a tough situation with arise of a new virus called Covid-19.\n",
    "As I am from India, in this notebook I analysed the data related to each state and union territory. I would to like to answer for the questions like which state has highest number of Confirmed cases, the top ten affected states with respect to fatality ratio and cured ratio."
   ]
  },
  {
   "cell_type": "markdown",
   "metadata": {
    "papermill": {
     "duration": 0.015297,
     "end_time": "2021-03-23T23:07:52.160952",
     "exception": false,
     "start_time": "2021-03-23T23:07:52.145655",
     "status": "completed"
    },
    "tags": []
   },
   "source": [
    "# Data Preprocessing"
   ]
  },
  {
   "cell_type": "markdown",
   "metadata": {
    "papermill": {
     "duration": 0.015263,
     "end_time": "2021-03-23T23:07:52.192130",
     "exception": false,
     "start_time": "2021-03-23T23:07:52.176867",
     "status": "completed"
    },
    "tags": []
   },
   "source": [
    "* firstly import the libraries such as numpy and pandas to read the input .csv file and convert it to a dataframe."
   ]
  },
  {
   "cell_type": "code",
   "execution_count": 1,
   "metadata": {
    "_cell_guid": "b1076dfc-b9ad-4769-8c92-a6c4dae69d19",
    "_uuid": "8f2839f25d086af736a60e9eeb907d3b93b6e0e5",
    "execution": {
     "iopub.execute_input": "2021-03-23T23:07:52.227033Z",
     "iopub.status.busy": "2021-03-23T23:07:52.226107Z",
     "iopub.status.idle": "2021-03-23T23:07:52.249219Z",
     "shell.execute_reply": "2021-03-23T23:07:52.248134Z"
    },
    "papermill": {
     "duration": 0.041936,
     "end_time": "2021-03-23T23:07:52.249530",
     "exception": false,
     "start_time": "2021-03-23T23:07:52.207594",
     "status": "completed"
    },
    "tags": []
   },
   "outputs": [
    {
     "name": "stdout",
     "output_type": "stream",
     "text": [
      "/kaggle/input/covid19-in-india/StatewiseTestingDetails.csv\n",
      "/kaggle/input/covid19-in-india/covid_19_india.csv\n"
     ]
    }
   ],
   "source": [
    "# This Python 3 environment comes with many helpful analytics libraries installed\n",
    "# It is defined by the kaggle/python Docker image: https://github.com/kaggle/docker-python\n",
    "# For example, here's several helpful packages to load\n",
    "\n",
    "import numpy as np # linear algebra\n",
    "import pandas as pd # data processing, CSV file I/O (e.g. pd.read_csv)\n",
    "\n",
    "# Input data files are available in the read-only \"../input/\" directory\n",
    "# For example, running this (by clicking run or pressing Shift+Enter) will list all files under the input directory\n",
    "\n",
    "import os\n",
    "for dirname, _, filenames in os.walk('/kaggle/input'):\n",
    "    for filename in filenames:\n",
    "        print(os.path.join(dirname, filename))\n",
    "\n",
    "# You can write up to 20GB to the current directory (/kaggle/working/) that gets preserved as output when you create a version using \"Save & Run All\" \n",
    "# You can also write temporary files to /kaggle/temp/, but they won't be saved outside of the current session"
   ]
  },
  {
   "cell_type": "code",
   "execution_count": 2,
   "metadata": {
    "execution": {
     "iopub.execute_input": "2021-03-23T23:07:52.289250Z",
     "iopub.status.busy": "2021-03-23T23:07:52.288600Z",
     "iopub.status.idle": "2021-03-23T23:07:52.342283Z",
     "shell.execute_reply": "2021-03-23T23:07:52.341736Z"
    },
    "papermill": {
     "duration": 0.075288,
     "end_time": "2021-03-23T23:07:52.342443",
     "exception": false,
     "start_time": "2021-03-23T23:07:52.267155",
     "status": "completed"
    },
    "tags": []
   },
   "outputs": [
    {
     "name": "stdout",
     "output_type": "stream",
     "text": [
      "   Sno      Date     Time State/UnionTerritory ConfirmedIndianNational  \\\n",
      "0    1  30/01/20  6:00 PM               Kerala                       1   \n",
      "1    2  31/01/20  6:00 PM               Kerala                       1   \n",
      "2    3  01/02/20  6:00 PM               Kerala                       2   \n",
      "3    4  02/02/20  6:00 PM               Kerala                       3   \n",
      "4    5  03/02/20  6:00 PM               Kerala                       3   \n",
      "5    6  04/02/20  6:00 PM               Kerala                       3   \n",
      "6    7  05/02/20  6:00 PM               Kerala                       3   \n",
      "7    8  06/02/20  6:00 PM               Kerala                       3   \n",
      "8    9  07/02/20  6:00 PM               Kerala                       3   \n",
      "9   10  08/02/20  6:00 PM               Kerala                       3   \n",
      "\n",
      "  ConfirmedForeignNational  Cured  Deaths  Confirmed  \n",
      "0                        0      0       0          1  \n",
      "1                        0      0       0          1  \n",
      "2                        0      0       0          2  \n",
      "3                        0      0       0          3  \n",
      "4                        0      0       0          3  \n",
      "5                        0      0       0          3  \n",
      "6                        0      0       0          3  \n",
      "7                        0      0       0          3  \n",
      "8                        0      0       0          3  \n",
      "9                        0      0       0          3  \n"
     ]
    }
   ],
   "source": [
    "df = pd.read_csv(\"../input/covid19-in-india/covid_19_india.csv\")\n",
    "print(df.head(10))"
   ]
  },
  {
   "cell_type": "markdown",
   "metadata": {
    "papermill": {
     "duration": 0.016781,
     "end_time": "2021-03-23T23:07:52.376311",
     "exception": false,
     "start_time": "2021-03-23T23:07:52.359530",
     "status": "completed"
    },
    "tags": []
   },
   "source": [
    "* The function info gives the information about the missing values for the each feature and also the datatype assigned to it."
   ]
  },
  {
   "cell_type": "code",
   "execution_count": 3,
   "metadata": {
    "execution": {
     "iopub.execute_input": "2021-03-23T23:07:52.422080Z",
     "iopub.status.busy": "2021-03-23T23:07:52.421046Z",
     "iopub.status.idle": "2021-03-23T23:07:52.439151Z",
     "shell.execute_reply": "2021-03-23T23:07:52.438220Z"
    },
    "papermill": {
     "duration": 0.045963,
     "end_time": "2021-03-23T23:07:52.439346",
     "exception": false,
     "start_time": "2021-03-23T23:07:52.393383",
     "status": "completed"
    },
    "tags": []
   },
   "outputs": [
    {
     "name": "stdout",
     "output_type": "stream",
     "text": [
      "<class 'pandas.core.frame.DataFrame'>\n",
      "RangeIndex: 9291 entries, 0 to 9290\n",
      "Data columns (total 9 columns):\n",
      " #   Column                    Non-Null Count  Dtype \n",
      "---  ------                    --------------  ----- \n",
      " 0   Sno                       9291 non-null   int64 \n",
      " 1   Date                      9291 non-null   object\n",
      " 2   Time                      9291 non-null   object\n",
      " 3   State/UnionTerritory      9291 non-null   object\n",
      " 4   ConfirmedIndianNational   9291 non-null   object\n",
      " 5   ConfirmedForeignNational  9291 non-null   object\n",
      " 6   Cured                     9291 non-null   int64 \n",
      " 7   Deaths                    9291 non-null   int64 \n",
      " 8   Confirmed                 9291 non-null   int64 \n",
      "dtypes: int64(4), object(5)\n",
      "memory usage: 653.4+ KB\n"
     ]
    }
   ],
   "source": [
    "df.info()"
   ]
  },
  {
   "cell_type": "markdown",
   "metadata": {
    "papermill": {
     "duration": 0.017143,
     "end_time": "2021-03-23T23:07:52.474806",
     "exception": false,
     "start_time": "2021-03-23T23:07:52.457663",
     "status": "completed"
    },
    "tags": []
   },
   "source": [
    "* Drop the unnecessary columns that you cannot use to make predictions.\n",
    "* The columns namely Sno, Time, ConfirmedIndianNational, ConfirmedForeignNational are not much useful"
   ]
  },
  {
   "cell_type": "code",
   "execution_count": 4,
   "metadata": {
    "execution": {
     "iopub.execute_input": "2021-03-23T23:07:52.517435Z",
     "iopub.status.busy": "2021-03-23T23:07:52.516761Z",
     "iopub.status.idle": "2021-03-23T23:07:52.520532Z",
     "shell.execute_reply": "2021-03-23T23:07:52.520014Z"
    },
    "papermill": {
     "duration": 0.02739,
     "end_time": "2021-03-23T23:07:52.520683",
     "exception": false,
     "start_time": "2021-03-23T23:07:52.493293",
     "status": "completed"
    },
    "tags": []
   },
   "outputs": [],
   "source": [
    "df = df.drop(['Sno','Time','ConfirmedIndianNational', 'ConfirmedForeignNational'], axis=1)"
   ]
  },
  {
   "cell_type": "code",
   "execution_count": 5,
   "metadata": {
    "execution": {
     "iopub.execute_input": "2021-03-23T23:07:52.567991Z",
     "iopub.status.busy": "2021-03-23T23:07:52.567235Z",
     "iopub.status.idle": "2021-03-23T23:07:52.571247Z",
     "shell.execute_reply": "2021-03-23T23:07:52.570747Z"
    },
    "papermill": {
     "duration": 0.032978,
     "end_time": "2021-03-23T23:07:52.571401",
     "exception": false,
     "start_time": "2021-03-23T23:07:52.538423",
     "status": "completed"
    },
    "tags": []
   },
   "outputs": [
    {
     "data": {
      "text/plain": [
       "Date                    0\n",
       "State/UnionTerritory    0\n",
       "Cured                   0\n",
       "Deaths                  0\n",
       "Confirmed               0\n",
       "dtype: int64"
      ]
     },
     "execution_count": 5,
     "metadata": {},
     "output_type": "execute_result"
    }
   ],
   "source": [
    "df.isnull().sum()"
   ]
  },
  {
   "cell_type": "code",
   "execution_count": 6,
   "metadata": {
    "execution": {
     "iopub.execute_input": "2021-03-23T23:07:52.612988Z",
     "iopub.status.busy": "2021-03-23T23:07:52.611748Z",
     "iopub.status.idle": "2021-03-23T23:07:52.616478Z",
     "shell.execute_reply": "2021-03-23T23:07:52.615973Z"
    },
    "papermill": {
     "duration": 0.0271,
     "end_time": "2021-03-23T23:07:52.616615",
     "exception": false,
     "start_time": "2021-03-23T23:07:52.589515",
     "status": "completed"
    },
    "tags": []
   },
   "outputs": [],
   "source": [
    "df = df.rename(columns = {'State/UnionTerritory' : 'State'})"
   ]
  },
  {
   "cell_type": "markdown",
   "metadata": {
    "papermill": {
     "duration": 0.017571,
     "end_time": "2021-03-23T23:07:52.652365",
     "exception": false,
     "start_time": "2021-03-23T23:07:52.634794",
     "status": "completed"
    },
    "tags": []
   },
   "source": [
    "By using unique, you can find the duplicate entries. such that it is helpful in cleaning the data"
   ]
  },
  {
   "cell_type": "code",
   "execution_count": 7,
   "metadata": {
    "execution": {
     "iopub.execute_input": "2021-03-23T23:07:52.695193Z",
     "iopub.status.busy": "2021-03-23T23:07:52.694535Z",
     "iopub.status.idle": "2021-03-23T23:07:52.697465Z",
     "shell.execute_reply": "2021-03-23T23:07:52.698054Z"
    },
    "papermill": {
     "duration": 0.027913,
     "end_time": "2021-03-23T23:07:52.698221",
     "exception": false,
     "start_time": "2021-03-23T23:07:52.670308",
     "status": "completed"
    },
    "tags": []
   },
   "outputs": [
    {
     "data": {
      "text/plain": [
       "array(['Kerala', 'Telengana', 'Delhi', 'Rajasthan', 'Uttar Pradesh',\n",
       "       'Haryana', 'Ladakh', 'Tamil Nadu', 'Karnataka', 'Maharashtra',\n",
       "       'Punjab', 'Jammu and Kashmir', 'Andhra Pradesh', 'Uttarakhand',\n",
       "       'Odisha', 'Puducherry', 'West Bengal', 'Chhattisgarh',\n",
       "       'Chandigarh', 'Gujarat', 'Himachal Pradesh', 'Madhya Pradesh',\n",
       "       'Bihar', 'Manipur', 'Mizoram', 'Andaman and Nicobar Islands',\n",
       "       'Goa', 'Unassigned', 'Assam', 'Jharkhand', 'Arunachal Pradesh',\n",
       "       'Tripura', 'Nagaland', 'Meghalaya', 'Dadar Nagar Haveli',\n",
       "       'Cases being reassigned to states', 'Sikkim', 'Daman & Diu',\n",
       "       'Dadra and Nagar Haveli and Daman and Diu', 'Telangana',\n",
       "       'Telangana***', 'Telengana***', 'Maharashtra***', 'Chandigarh***',\n",
       "       'Punjab***'], dtype=object)"
      ]
     },
     "execution_count": 7,
     "metadata": {},
     "output_type": "execute_result"
    }
   ],
   "source": [
    "df['State'].unique()"
   ]
  },
  {
   "cell_type": "code",
   "execution_count": 8,
   "metadata": {
    "execution": {
     "iopub.execute_input": "2021-03-23T23:07:52.738630Z",
     "iopub.status.busy": "2021-03-23T23:07:52.737948Z",
     "iopub.status.idle": "2021-03-23T23:07:52.754440Z",
     "shell.execute_reply": "2021-03-23T23:07:52.754992Z"
    },
    "papermill": {
     "duration": 0.038453,
     "end_time": "2021-03-23T23:07:52.755167",
     "exception": false,
     "start_time": "2021-03-23T23:07:52.716714",
     "status": "completed"
    },
    "tags": []
   },
   "outputs": [],
   "source": [
    "df = df.replace('Telengana','Telangana')\n",
    "df = df.replace('Telengana***','Telangana')\n",
    "df = df.replace('Telangana***','Telangana')\n",
    "df = df.replace('Maharashtra***','Maharashtra')\n",
    "df = df.replace('Chandigarh***','Chandigarh')\n",
    "df = df.replace('Punjab***','Punjab')"
   ]
  },
  {
   "cell_type": "code",
   "execution_count": 9,
   "metadata": {
    "execution": {
     "iopub.execute_input": "2021-03-23T23:07:52.796587Z",
     "iopub.status.busy": "2021-03-23T23:07:52.795834Z",
     "iopub.status.idle": "2021-03-23T23:07:52.816957Z",
     "shell.execute_reply": "2021-03-23T23:07:52.816169Z"
    },
    "papermill": {
     "duration": 0.04296,
     "end_time": "2021-03-23T23:07:52.817118",
     "exception": false,
     "start_time": "2021-03-23T23:07:52.774158",
     "status": "completed"
    },
    "tags": []
   },
   "outputs": [],
   "source": [
    "df['Active'] = df['Confirmed'] - df['Cured']"
   ]
  },
  {
   "cell_type": "code",
   "execution_count": 10,
   "metadata": {
    "execution": {
     "iopub.execute_input": "2021-03-23T23:07:52.858752Z",
     "iopub.status.busy": "2021-03-23T23:07:52.858144Z",
     "iopub.status.idle": "2021-03-23T23:07:52.872818Z",
     "shell.execute_reply": "2021-03-23T23:07:52.872191Z"
    },
    "papermill": {
     "duration": 0.036861,
     "end_time": "2021-03-23T23:07:52.872985",
     "exception": false,
     "start_time": "2021-03-23T23:07:52.836124",
     "status": "completed"
    },
    "tags": []
   },
   "outputs": [
    {
     "data": {
      "text/html": [
       "<div>\n",
       "<style scoped>\n",
       "    .dataframe tbody tr th:only-of-type {\n",
       "        vertical-align: middle;\n",
       "    }\n",
       "\n",
       "    .dataframe tbody tr th {\n",
       "        vertical-align: top;\n",
       "    }\n",
       "\n",
       "    .dataframe thead th {\n",
       "        text-align: right;\n",
       "    }\n",
       "</style>\n",
       "<table border=\"1\" class=\"dataframe\">\n",
       "  <thead>\n",
       "    <tr style=\"text-align: right;\">\n",
       "      <th></th>\n",
       "      <th>Date</th>\n",
       "      <th>State</th>\n",
       "      <th>Cured</th>\n",
       "      <th>Deaths</th>\n",
       "      <th>Confirmed</th>\n",
       "      <th>Active</th>\n",
       "    </tr>\n",
       "  </thead>\n",
       "  <tbody>\n",
       "    <tr>\n",
       "      <th>0</th>\n",
       "      <td>30/01/20</td>\n",
       "      <td>Kerala</td>\n",
       "      <td>0</td>\n",
       "      <td>0</td>\n",
       "      <td>1</td>\n",
       "      <td>1</td>\n",
       "    </tr>\n",
       "    <tr>\n",
       "      <th>1</th>\n",
       "      <td>31/01/20</td>\n",
       "      <td>Kerala</td>\n",
       "      <td>0</td>\n",
       "      <td>0</td>\n",
       "      <td>1</td>\n",
       "      <td>1</td>\n",
       "    </tr>\n",
       "    <tr>\n",
       "      <th>2</th>\n",
       "      <td>01/02/20</td>\n",
       "      <td>Kerala</td>\n",
       "      <td>0</td>\n",
       "      <td>0</td>\n",
       "      <td>2</td>\n",
       "      <td>2</td>\n",
       "    </tr>\n",
       "    <tr>\n",
       "      <th>3</th>\n",
       "      <td>02/02/20</td>\n",
       "      <td>Kerala</td>\n",
       "      <td>0</td>\n",
       "      <td>0</td>\n",
       "      <td>3</td>\n",
       "      <td>3</td>\n",
       "    </tr>\n",
       "    <tr>\n",
       "      <th>4</th>\n",
       "      <td>03/02/20</td>\n",
       "      <td>Kerala</td>\n",
       "      <td>0</td>\n",
       "      <td>0</td>\n",
       "      <td>3</td>\n",
       "      <td>3</td>\n",
       "    </tr>\n",
       "    <tr>\n",
       "      <th>5</th>\n",
       "      <td>04/02/20</td>\n",
       "      <td>Kerala</td>\n",
       "      <td>0</td>\n",
       "      <td>0</td>\n",
       "      <td>3</td>\n",
       "      <td>3</td>\n",
       "    </tr>\n",
       "    <tr>\n",
       "      <th>6</th>\n",
       "      <td>05/02/20</td>\n",
       "      <td>Kerala</td>\n",
       "      <td>0</td>\n",
       "      <td>0</td>\n",
       "      <td>3</td>\n",
       "      <td>3</td>\n",
       "    </tr>\n",
       "    <tr>\n",
       "      <th>7</th>\n",
       "      <td>06/02/20</td>\n",
       "      <td>Kerala</td>\n",
       "      <td>0</td>\n",
       "      <td>0</td>\n",
       "      <td>3</td>\n",
       "      <td>3</td>\n",
       "    </tr>\n",
       "    <tr>\n",
       "      <th>8</th>\n",
       "      <td>07/02/20</td>\n",
       "      <td>Kerala</td>\n",
       "      <td>0</td>\n",
       "      <td>0</td>\n",
       "      <td>3</td>\n",
       "      <td>3</td>\n",
       "    </tr>\n",
       "    <tr>\n",
       "      <th>9</th>\n",
       "      <td>08/02/20</td>\n",
       "      <td>Kerala</td>\n",
       "      <td>0</td>\n",
       "      <td>0</td>\n",
       "      <td>3</td>\n",
       "      <td>3</td>\n",
       "    </tr>\n",
       "  </tbody>\n",
       "</table>\n",
       "</div>"
      ],
      "text/plain": [
       "       Date   State  Cured  Deaths  Confirmed  Active\n",
       "0  30/01/20  Kerala      0       0          1       1\n",
       "1  31/01/20  Kerala      0       0          1       1\n",
       "2  01/02/20  Kerala      0       0          2       2\n",
       "3  02/02/20  Kerala      0       0          3       3\n",
       "4  03/02/20  Kerala      0       0          3       3\n",
       "5  04/02/20  Kerala      0       0          3       3\n",
       "6  05/02/20  Kerala      0       0          3       3\n",
       "7  06/02/20  Kerala      0       0          3       3\n",
       "8  07/02/20  Kerala      0       0          3       3\n",
       "9  08/02/20  Kerala      0       0          3       3"
      ]
     },
     "execution_count": 10,
     "metadata": {},
     "output_type": "execute_result"
    }
   ],
   "source": [
    "df.head(10)"
   ]
  },
  {
   "cell_type": "code",
   "execution_count": 11,
   "metadata": {
    "execution": {
     "iopub.execute_input": "2021-03-23T23:07:52.915193Z",
     "iopub.status.busy": "2021-03-23T23:07:52.914565Z",
     "iopub.status.idle": "2021-03-23T23:07:52.931620Z",
     "shell.execute_reply": "2021-03-23T23:07:52.930996Z"
    },
    "papermill": {
     "duration": 0.039364,
     "end_time": "2021-03-23T23:07:52.931791",
     "exception": false,
     "start_time": "2021-03-23T23:07:52.892427",
     "status": "completed"
    },
    "tags": []
   },
   "outputs": [
    {
     "name": "stderr",
     "output_type": "stream",
     "text": [
      "/opt/conda/lib/python3.7/site-packages/ipykernel_launcher.py:1: FutureWarning: Indexing with multiple keys (implicitly converted to a tuple of keys) will be deprecated, use a list instead.\n",
      "  \"\"\"Entry point for launching an IPython kernel.\n"
     ]
    }
   ],
   "source": [
    "state_cases = df.groupby('State')['Confirmed','Deaths','Cured', 'Active'].max().reset_index()"
   ]
  },
  {
   "cell_type": "code",
   "execution_count": 12,
   "metadata": {
    "execution": {
     "iopub.execute_input": "2021-03-23T23:07:52.980605Z",
     "iopub.status.busy": "2021-03-23T23:07:52.979427Z",
     "iopub.status.idle": "2021-03-23T23:07:53.095240Z",
     "shell.execute_reply": "2021-03-23T23:07:53.094602Z"
    },
    "papermill": {
     "duration": 0.142912,
     "end_time": "2021-03-23T23:07:53.095380",
     "exception": false,
     "start_time": "2021-03-23T23:07:52.952468",
     "status": "completed"
    },
    "tags": []
   },
   "outputs": [
    {
     "data": {
      "text/html": [
       "<style  type=\"text/css\" >\n",
       "#T_a93d1_row0_col1,#T_a93d1_row0_col4{\n",
       "            background-color:  #08306b;\n",
       "            color:  #f1f1f1;\n",
       "        }#T_a93d1_row0_col2{\n",
       "            background-color:  #67000d;\n",
       "            color:  #f1f1f1;\n",
       "        }#T_a93d1_row0_col3{\n",
       "            background-color:  #00441b;\n",
       "            color:  #f1f1f1;\n",
       "        }#T_a93d1_row1_col1{\n",
       "            background-color:  #72b2d8;\n",
       "            color:  #000000;\n",
       "        }#T_a93d1_row1_col2,#T_a93d1_row3_col2{\n",
       "            background-color:  #fcbca2;\n",
       "            color:  #000000;\n",
       "        }#T_a93d1_row1_col3,#T_a93d1_row2_col3{\n",
       "            background-color:  #76c578;\n",
       "            color:  #000000;\n",
       "        }#T_a93d1_row1_col4{\n",
       "            background-color:  #97c6df;\n",
       "            color:  #000000;\n",
       "        }#T_a93d1_row2_col1{\n",
       "            background-color:  #77b5d9;\n",
       "            color:  #000000;\n",
       "        }#T_a93d1_row2_col2{\n",
       "            background-color:  #fedaca;\n",
       "            color:  #000000;\n",
       "        }#T_a93d1_row2_col4,#T_a93d1_row5_col1{\n",
       "            background-color:  #afd1e7;\n",
       "            color:  #000000;\n",
       "        }#T_a93d1_row3_col1{\n",
       "            background-color:  #89bedc;\n",
       "            color:  #000000;\n",
       "        }#T_a93d1_row3_col3{\n",
       "            background-color:  #88ce87;\n",
       "            color:  #000000;\n",
       "        }#T_a93d1_row3_col4{\n",
       "            background-color:  #d3e3f3;\n",
       "            color:  #000000;\n",
       "        }#T_a93d1_row4_col1{\n",
       "            background-color:  #a8cee4;\n",
       "            color:  #000000;\n",
       "        }#T_a93d1_row4_col2,#T_a93d1_row9_col2{\n",
       "            background-color:  #ffece4;\n",
       "            color:  #000000;\n",
       "        }#T_a93d1_row4_col3{\n",
       "            background-color:  #aedea7;\n",
       "            color:  #000000;\n",
       "        }#T_a93d1_row4_col4{\n",
       "            background-color:  #b8d5ea;\n",
       "            color:  #000000;\n",
       "        }#T_a93d1_row5_col2{\n",
       "            background-color:  #fdc9b3;\n",
       "            color:  #000000;\n",
       "        }#T_a93d1_row5_col3{\n",
       "            background-color:  #b0dfaa;\n",
       "            color:  #000000;\n",
       "        }#T_a93d1_row5_col4,#T_a93d1_row9_col1{\n",
       "            background-color:  #d9e7f5;\n",
       "            color:  #000000;\n",
       "        }#T_a93d1_row6_col1{\n",
       "            background-color:  #b7d4ea;\n",
       "            color:  #000000;\n",
       "        }#T_a93d1_row6_col2{\n",
       "            background-color:  #fdd4c2;\n",
       "            color:  #000000;\n",
       "        }#T_a93d1_row6_col3{\n",
       "            background-color:  #b7e2b1;\n",
       "            color:  #000000;\n",
       "        }#T_a93d1_row6_col4{\n",
       "            background-color:  #ccdff1;\n",
       "            color:  #000000;\n",
       "        }#T_a93d1_row7_col1{\n",
       "            background-color:  #bfd8ed;\n",
       "            color:  #000000;\n",
       "        }#T_a93d1_row7_col2{\n",
       "            background-color:  #fdcebb;\n",
       "            color:  #000000;\n",
       "        }#T_a93d1_row7_col3{\n",
       "            background-color:  #c0e6b9;\n",
       "            color:  #000000;\n",
       "        }#T_a93d1_row7_col4,#T_a93d1_row12_col1{\n",
       "            background-color:  #ddeaf7;\n",
       "            color:  #000000;\n",
       "        }#T_a93d1_row8_col1{\n",
       "            background-color:  #d5e5f4;\n",
       "            color:  #000000;\n",
       "        }#T_a93d1_row8_col2,#T_a93d1_row18_col2{\n",
       "            background-color:  #ffefe8;\n",
       "            color:  #000000;\n",
       "        }#T_a93d1_row8_col3{\n",
       "            background-color:  #d8f0d2;\n",
       "            color:  #000000;\n",
       "        }#T_a93d1_row8_col4,#T_a93d1_row16_col4{\n",
       "            background-color:  #e2edf8;\n",
       "            color:  #000000;\n",
       "        }#T_a93d1_row9_col3{\n",
       "            background-color:  #dff3da;\n",
       "            color:  #000000;\n",
       "        }#T_a93d1_row9_col4{\n",
       "            background-color:  #e5eff9;\n",
       "            color:  #000000;\n",
       "        }#T_a93d1_row10_col1{\n",
       "            background-color:  #dae8f6;\n",
       "            color:  #000000;\n",
       "        }#T_a93d1_row10_col2{\n",
       "            background-color:  #fff0e9;\n",
       "            color:  #000000;\n",
       "        }#T_a93d1_row10_col3{\n",
       "            background-color:  #def2d9;\n",
       "            color:  #000000;\n",
       "        }#T_a93d1_row10_col4,#T_a93d1_row13_col4{\n",
       "            background-color:  #e3eef9;\n",
       "            color:  #000000;\n",
       "        }#T_a93d1_row11_col1{\n",
       "            background-color:  #dceaf6;\n",
       "            color:  #000000;\n",
       "        }#T_a93d1_row11_col2{\n",
       "            background-color:  #feeae1;\n",
       "            color:  #000000;\n",
       "        }#T_a93d1_row11_col3{\n",
       "            background-color:  #e4f5df;\n",
       "            color:  #000000;\n",
       "        }#T_a93d1_row11_col4,#T_a93d1_row15_col1,#T_a93d1_row16_col1{\n",
       "            background-color:  #e0ecf8;\n",
       "            color:  #000000;\n",
       "        }#T_a93d1_row12_col2{\n",
       "            background-color:  #ffece3;\n",
       "            color:  #000000;\n",
       "        }#T_a93d1_row12_col3,#T_a93d1_row13_col3{\n",
       "            background-color:  #e3f4de;\n",
       "            color:  #000000;\n",
       "        }#T_a93d1_row12_col4,#T_a93d1_row18_col4{\n",
       "            background-color:  #eaf2fb;\n",
       "            color:  #000000;\n",
       "        }#T_a93d1_row13_col1{\n",
       "            background-color:  #deebf7;\n",
       "            color:  #000000;\n",
       "        }#T_a93d1_row13_col2,#T_a93d1_row20_col2{\n",
       "            background-color:  #fff1ea;\n",
       "            color:  #000000;\n",
       "        }#T_a93d1_row14_col1{\n",
       "            background-color:  #dfecf7;\n",
       "            color:  #000000;\n",
       "        }#T_a93d1_row14_col2{\n",
       "            background-color:  #fee7dc;\n",
       "            color:  #000000;\n",
       "        }#T_a93d1_row14_col3,#T_a93d1_row15_col3{\n",
       "            background-color:  #e7f6e2;\n",
       "            color:  #000000;\n",
       "        }#T_a93d1_row14_col4,#T_a93d1_row18_col1,#T_a93d1_row19_col1{\n",
       "            background-color:  #ebf3fb;\n",
       "            color:  #000000;\n",
       "        }#T_a93d1_row15_col2{\n",
       "            background-color:  #feeae0;\n",
       "            color:  #000000;\n",
       "        }#T_a93d1_row15_col4,#T_a93d1_row17_col4{\n",
       "            background-color:  #e8f1fa;\n",
       "            color:  #000000;\n",
       "        }#T_a93d1_row16_col2,#T_a93d1_row19_col2{\n",
       "            background-color:  #fff2eb;\n",
       "            color:  #000000;\n",
       "        }#T_a93d1_row16_col3{\n",
       "            background-color:  #e6f5e1;\n",
       "            color:  #000000;\n",
       "        }#T_a93d1_row17_col1{\n",
       "            background-color:  #e7f0fa;\n",
       "            color:  #000000;\n",
       "        }#T_a93d1_row17_col2{\n",
       "            background-color:  #fee4d8;\n",
       "            color:  #000000;\n",
       "        }#T_a93d1_row17_col3{\n",
       "            background-color:  #ebf7e7;\n",
       "            color:  #000000;\n",
       "        }#T_a93d1_row18_col3,#T_a93d1_row19_col3{\n",
       "            background-color:  #eff9eb;\n",
       "            color:  #000000;\n",
       "        }#T_a93d1_row19_col4{\n",
       "            background-color:  #eef5fc;\n",
       "            color:  #000000;\n",
       "        }#T_a93d1_row20_col1{\n",
       "            background-color:  #eff6fc;\n",
       "            color:  #000000;\n",
       "        }#T_a93d1_row20_col3{\n",
       "            background-color:  #f1faee;\n",
       "            color:  #000000;\n",
       "        }#T_a93d1_row20_col4{\n",
       "            background-color:  #f0f6fd;\n",
       "            color:  #000000;\n",
       "        }#T_a93d1_row21_col1,#T_a93d1_row22_col1{\n",
       "            background-color:  #f2f8fd;\n",
       "            color:  #000000;\n",
       "        }#T_a93d1_row21_col2,#T_a93d1_row23_col2{\n",
       "            background-color:  #fff3ed;\n",
       "            color:  #000000;\n",
       "        }#T_a93d1_row21_col3{\n",
       "            background-color:  #f4fbf1;\n",
       "            color:  #000000;\n",
       "        }#T_a93d1_row21_col4,#T_a93d1_row23_col4,#T_a93d1_row24_col1{\n",
       "            background-color:  #f4f9fe;\n",
       "            color:  #000000;\n",
       "        }#T_a93d1_row22_col2{\n",
       "            background-color:  #fff2ec;\n",
       "            color:  #000000;\n",
       "        }#T_a93d1_row22_col3,#T_a93d1_row23_col3{\n",
       "            background-color:  #f4fbf2;\n",
       "            color:  #000000;\n",
       "        }#T_a93d1_row22_col4,#T_a93d1_row30_col4{\n",
       "            background-color:  #f2f7fd;\n",
       "            color:  #000000;\n",
       "        }#T_a93d1_row23_col1,#T_a93d1_row24_col4{\n",
       "            background-color:  #f3f8fe;\n",
       "            color:  #000000;\n",
       "        }#T_a93d1_row24_col2,#T_a93d1_row25_col2,#T_a93d1_row26_col2{\n",
       "            background-color:  #fff4ef;\n",
       "            color:  #000000;\n",
       "        }#T_a93d1_row24_col3{\n",
       "            background-color:  #f5fbf2;\n",
       "            color:  #000000;\n",
       "        }#T_a93d1_row25_col1,#T_a93d1_row25_col4{\n",
       "            background-color:  #f5f9fe;\n",
       "            color:  #000000;\n",
       "        }#T_a93d1_row25_col3{\n",
       "            background-color:  #f5fbf3;\n",
       "            color:  #000000;\n",
       "        }#T_a93d1_row26_col1,#T_a93d1_row26_col4,#T_a93d1_row27_col1,#T_a93d1_row27_col4{\n",
       "            background-color:  #f5fafe;\n",
       "            color:  #000000;\n",
       "        }#T_a93d1_row26_col3,#T_a93d1_row27_col3,#T_a93d1_row28_col3,#T_a93d1_row29_col3,#T_a93d1_row31_col3{\n",
       "            background-color:  #f6fcf4;\n",
       "            color:  #000000;\n",
       "        }#T_a93d1_row27_col2,#T_a93d1_row28_col2,#T_a93d1_row29_col2,#T_a93d1_row30_col2,#T_a93d1_row31_col2,#T_a93d1_row32_col2,#T_a93d1_row33_col2,#T_a93d1_row34_col2,#T_a93d1_row35_col2,#T_a93d1_row36_col2,#T_a93d1_row37_col2,#T_a93d1_row38_col2{\n",
       "            background-color:  #fff5f0;\n",
       "            color:  #000000;\n",
       "        }#T_a93d1_row28_col1,#T_a93d1_row28_col4,#T_a93d1_row29_col1,#T_a93d1_row29_col4,#T_a93d1_row30_col1,#T_a93d1_row31_col1,#T_a93d1_row31_col4{\n",
       "            background-color:  #f6faff;\n",
       "            color:  #000000;\n",
       "        }#T_a93d1_row30_col3,#T_a93d1_row32_col3,#T_a93d1_row33_col3,#T_a93d1_row34_col3,#T_a93d1_row35_col3,#T_a93d1_row36_col3,#T_a93d1_row37_col3,#T_a93d1_row38_col3{\n",
       "            background-color:  #f7fcf5;\n",
       "            color:  #000000;\n",
       "        }#T_a93d1_row32_col1,#T_a93d1_row32_col4,#T_a93d1_row33_col1,#T_a93d1_row33_col4,#T_a93d1_row34_col1,#T_a93d1_row34_col4,#T_a93d1_row35_col1,#T_a93d1_row35_col4,#T_a93d1_row36_col1,#T_a93d1_row36_col4,#T_a93d1_row37_col1,#T_a93d1_row37_col4,#T_a93d1_row38_col1,#T_a93d1_row38_col4{\n",
       "            background-color:  #f7fbff;\n",
       "            color:  #000000;\n",
       "        }</style><table id=\"T_a93d1_\" ><thead>    <tr>        <th class=\"blank level0\" ></th>        <th class=\"col_heading level0 col0\" >State</th>        <th class=\"col_heading level0 col1\" >Confirmed</th>        <th class=\"col_heading level0 col2\" >Deaths</th>        <th class=\"col_heading level0 col3\" >Cured</th>        <th class=\"col_heading level0 col4\" >Active</th>    </tr></thead><tbody>\n",
       "                <tr>\n",
       "                        <th id=\"T_a93d1_level0_row0\" class=\"row_heading level0 row0\" >22</th>\n",
       "                        <td id=\"T_a93d1_row0_col0\" class=\"data row0 col0\" >Maharashtra</td>\n",
       "                        <td id=\"T_a93d1_row0_col1\" class=\"data row0 col1\" >1859367</td>\n",
       "                        <td id=\"T_a93d1_row0_col2\" class=\"data row0 col2\" >47827</td>\n",
       "                        <td id=\"T_a93d1_row0_col3\" class=\"data row0 col3\" >1737080</td>\n",
       "                        <td id=\"T_a93d1_row0_col4\" class=\"data row0 col4\" >333486</td>\n",
       "            </tr>\n",
       "            <tr>\n",
       "                        <th id=\"T_a93d1_level0_row1\" class=\"row_heading level0 row1\" >18</th>\n",
       "                        <td id=\"T_a93d1_row1_col0\" class=\"data row1 col0\" >Karnataka</td>\n",
       "                        <td id=\"T_a93d1_row1_col1\" class=\"data row1 col1\" >895284</td>\n",
       "                        <td id=\"T_a93d1_row1_col2\" class=\"data row1 col2\" >11880</td>\n",
       "                        <td id=\"T_a93d1_row1_col3\" class=\"data row1 col3\" >858370</td>\n",
       "                        <td id=\"T_a93d1_row1_col4\" class=\"data row1 col4\" >130839</td>\n",
       "            </tr>\n",
       "            <tr>\n",
       "                        <th id=\"T_a93d1_level0_row2\" class=\"row_heading level0 row2\" >1</th>\n",
       "                        <td id=\"T_a93d1_row2_col0\" class=\"data row2 col0\" >Andhra Pradesh</td>\n",
       "                        <td id=\"T_a93d1_row2_col1\" class=\"data row2 col1\" >872839</td>\n",
       "                        <td id=\"T_a93d1_row2_col2\" class=\"data row2 col2\" >7042</td>\n",
       "                        <td id=\"T_a93d1_row2_col3\" class=\"data row2 col3\" >860368</td>\n",
       "                        <td id=\"T_a93d1_row2_col4\" class=\"data row2 col4\" >107721</td>\n",
       "            </tr>\n",
       "            <tr>\n",
       "                        <th id=\"T_a93d1_level0_row3\" class=\"row_heading level0 row3\" >32</th>\n",
       "                        <td id=\"T_a93d1_row3_col0\" class=\"data row3 col0\" >Tamil Nadu</td>\n",
       "                        <td id=\"T_a93d1_row3_col1\" class=\"data row3 col1\" >792788</td>\n",
       "                        <td id=\"T_a93d1_row3_col2\" class=\"data row3 col2\" >11822</td>\n",
       "                        <td id=\"T_a93d1_row3_col3\" class=\"data row3 col3\" >770378</td>\n",
       "                        <td id=\"T_a93d1_row3_col4\" class=\"data row3 col4\" >61903</td>\n",
       "            </tr>\n",
       "            <tr>\n",
       "                        <th id=\"T_a93d1_level0_row4\" class=\"row_heading level0 row4\" >19</th>\n",
       "                        <td id=\"T_a93d1_row4_col0\" class=\"data row4 col0\" >Kerala</td>\n",
       "                        <td id=\"T_a93d1_row4_col1\" class=\"data row4 col1\" >644696</td>\n",
       "                        <td id=\"T_a93d1_row4_col2\" class=\"data row4 col2\" >2472</td>\n",
       "                        <td id=\"T_a93d1_row4_col3\" class=\"data row4 col3\" >582351</td>\n",
       "                        <td id=\"T_a93d1_row4_col4\" class=\"data row4 col4\" >98826</td>\n",
       "            </tr>\n",
       "            <tr>\n",
       "                        <th id=\"T_a93d1_level0_row5\" class=\"row_heading level0 row5\" >11</th>\n",
       "                        <td id=\"T_a93d1_row5_col0\" class=\"data row5 col0\" >Delhi</td>\n",
       "                        <td id=\"T_a93d1_row5_col1\" class=\"data row5 col1\" >597112</td>\n",
       "                        <td id=\"T_a93d1_row5_col2\" class=\"data row5 col2\" >9763</td>\n",
       "                        <td id=\"T_a93d1_row5_col3\" class=\"data row5 col3\" >565039</td>\n",
       "                        <td id=\"T_a93d1_row5_col4\" class=\"data row5 col4\" >51975</td>\n",
       "            </tr>\n",
       "            <tr>\n",
       "                        <th id=\"T_a93d1_level0_row6\" class=\"row_heading level0 row6\" >36</th>\n",
       "                        <td id=\"T_a93d1_row6_col0\" class=\"data row6 col0\" >Uttar Pradesh</td>\n",
       "                        <td id=\"T_a93d1_row6_col1\" class=\"data row6 col1\" >558173</td>\n",
       "                        <td id=\"T_a93d1_row6_col2\" class=\"data row6 col2\" >7967</td>\n",
       "                        <td id=\"T_a93d1_row6_col3\" class=\"data row6 col3\" >528832</td>\n",
       "                        <td id=\"T_a93d1_row6_col4\" class=\"data row6 col4\" >73006</td>\n",
       "            </tr>\n",
       "            <tr>\n",
       "                        <th id=\"T_a93d1_level0_row7\" class=\"row_heading level0 row7\" >38</th>\n",
       "                        <td id=\"T_a93d1_row7_col0\" class=\"data row7 col0\" >West Bengal</td>\n",
       "                        <td id=\"T_a93d1_row7_col1\" class=\"data row7 col1\" >507995</td>\n",
       "                        <td id=\"T_a93d1_row7_col2\" class=\"data row7 col2\" >8820</td>\n",
       "                        <td id=\"T_a93d1_row7_col3\" class=\"data row7 col3\" >475425</td>\n",
       "                        <td id=\"T_a93d1_row7_col4\" class=\"data row7 col4\" >43819</td>\n",
       "            </tr>\n",
       "            <tr>\n",
       "                        <th id=\"T_a93d1_level0_row8\" class=\"row_heading level0 row8\" >27</th>\n",
       "                        <td id=\"T_a93d1_row8_col0\" class=\"data row8 col0\" >Odisha</td>\n",
       "                        <td id=\"T_a93d1_row8_col1\" class=\"data row8 col1\" >321913</td>\n",
       "                        <td id=\"T_a93d1_row8_col2\" class=\"data row8 col2\" >1784</td>\n",
       "                        <td id=\"T_a93d1_row8_col3\" class=\"data row8 col3\" >316970</td>\n",
       "                        <td id=\"T_a93d1_row8_col4\" class=\"data row8 col4\" >35844</td>\n",
       "            </tr>\n",
       "            <tr>\n",
       "                        <th id=\"T_a93d1_level0_row9\" class=\"row_heading level0 row9\" >30</th>\n",
       "                        <td id=\"T_a93d1_row9_col0\" class=\"data row9 col0\" >Rajasthan</td>\n",
       "                        <td id=\"T_a93d1_row9_col1\" class=\"data row9 col1\" >284116</td>\n",
       "                        <td id=\"T_a93d1_row9_col2\" class=\"data row9 col2\" >2468</td>\n",
       "                        <td id=\"T_a93d1_row9_col3\" class=\"data row9 col3\" >260773</td>\n",
       "                        <td id=\"T_a93d1_row9_col4\" class=\"data row9 col4\" >31050</td>\n",
       "            </tr>\n",
       "            <tr>\n",
       "                        <th id=\"T_a93d1_level0_row10\" class=\"row_heading level0 row10\" >33</th>\n",
       "                        <td id=\"T_a93d1_row10_col0\" class=\"data row10 col0\" >Telangana</td>\n",
       "                        <td id=\"T_a93d1_row10_col1\" class=\"data row10 col1\" >275261</td>\n",
       "                        <td id=\"T_a93d1_row10_col2\" class=\"data row10 col2\" >1480</td>\n",
       "                        <td id=\"T_a93d1_row10_col3\" class=\"data row10 col3\" >266120</td>\n",
       "                        <td id=\"T_a93d1_row10_col4\" class=\"data row10 col4\" >33860</td>\n",
       "            </tr>\n",
       "            <tr>\n",
       "                        <th id=\"T_a93d1_level0_row11\" class=\"row_heading level0 row11\" >7</th>\n",
       "                        <td id=\"T_a93d1_row11_col0\" class=\"data row11 col0\" >Chhattisgarh</td>\n",
       "                        <td id=\"T_a93d1_row11_col1\" class=\"data row11 col1\" >249699</td>\n",
       "                        <td id=\"T_a93d1_row11_col2\" class=\"data row11 col2\" >3025</td>\n",
       "                        <td id=\"T_a93d1_row11_col3\" class=\"data row11 col3\" >227158</td>\n",
       "                        <td id=\"T_a93d1_row11_col4\" class=\"data row11 col4\" >38916</td>\n",
       "            </tr>\n",
       "            <tr>\n",
       "                        <th id=\"T_a93d1_level0_row12\" class=\"row_heading level0 row12\" >14</th>\n",
       "                        <td id=\"T_a93d1_row12_col0\" class=\"data row12 col0\" >Haryana</td>\n",
       "                        <td id=\"T_a93d1_row12_col1\" class=\"data row12 col1\" >246679</td>\n",
       "                        <td id=\"T_a93d1_row12_col2\" class=\"data row12 col2\" >2624</td>\n",
       "                        <td id=\"T_a93d1_row12_col3\" class=\"data row12 col3\" >232108</td>\n",
       "                        <td id=\"T_a93d1_row12_col4\" class=\"data row12 col4\" >23239</td>\n",
       "            </tr>\n",
       "            <tr>\n",
       "                        <th id=\"T_a93d1_level0_row13\" class=\"row_heading level0 row13\" >4</th>\n",
       "                        <td id=\"T_a93d1_row13_col0\" class=\"data row13 col0\" >Bihar</td>\n",
       "                        <td id=\"T_a93d1_row13_col1\" class=\"data row13 col1\" >239322</td>\n",
       "                        <td id=\"T_a93d1_row13_col2\" class=\"data row13 col2\" >1300</td>\n",
       "                        <td id=\"T_a93d1_row13_col3\" class=\"data row13 col3\" >232563</td>\n",
       "                        <td id=\"T_a93d1_row13_col4\" class=\"data row13 col4\" >33078</td>\n",
       "            </tr>\n",
       "            <tr>\n",
       "                        <th id=\"T_a93d1_level0_row14\" class=\"row_heading level0 row14\" >13</th>\n",
       "                        <td id=\"T_a93d1_row14_col0\" class=\"data row14 col0\" >Gujarat</td>\n",
       "                        <td id=\"T_a93d1_row14_col1\" class=\"data row14 col1\" >221493</td>\n",
       "                        <td id=\"T_a93d1_row14_col2\" class=\"data row14 col2\" >4110</td>\n",
       "                        <td id=\"T_a93d1_row14_col3\" class=\"data row14 col3\" >203111</td>\n",
       "                        <td id=\"T_a93d1_row14_col4\" class=\"data row14 col4\" >20305</td>\n",
       "            </tr>\n",
       "            <tr>\n",
       "                        <th id=\"T_a93d1_level0_row15\" class=\"row_heading level0 row15\" >21</th>\n",
       "                        <td id=\"T_a93d1_row15_col0\" class=\"data row15 col0\" >Madhya Pradesh</td>\n",
       "                        <td id=\"T_a93d1_row15_col1\" class=\"data row15 col1\" >217302</td>\n",
       "                        <td id=\"T_a93d1_row15_col2\" class=\"data row15 col2\" >3358</td>\n",
       "                        <td id=\"T_a93d1_row15_col3\" class=\"data row15 col3\" >200664</td>\n",
       "                        <td id=\"T_a93d1_row15_col4\" class=\"data row15 col4\" >24889</td>\n",
       "            </tr>\n",
       "            <tr>\n",
       "                        <th id=\"T_a93d1_level0_row16\" class=\"row_heading level0 row16\" >3</th>\n",
       "                        <td id=\"T_a93d1_row16_col0\" class=\"data row16 col0\" >Assam</td>\n",
       "                        <td id=\"T_a93d1_row16_col1\" class=\"data row16 col1\" >214019</td>\n",
       "                        <td id=\"T_a93d1_row16_col2\" class=\"data row16 col2\" >997</td>\n",
       "                        <td id=\"T_a93d1_row16_col3\" class=\"data row16 col3\" >209447</td>\n",
       "                        <td id=\"T_a93d1_row16_col4\" class=\"data row16 col4\" >35193</td>\n",
       "            </tr>\n",
       "            <tr>\n",
       "                        <th id=\"T_a93d1_level0_row17\" class=\"row_heading level0 row17\" >29</th>\n",
       "                        <td id=\"T_a93d1_row17_col0\" class=\"data row17 col0\" >Punjab</td>\n",
       "                        <td id=\"T_a93d1_row17_col1\" class=\"data row17 col1\" >157331</td>\n",
       "                        <td id=\"T_a93d1_row17_col2\" class=\"data row17 col2\" >4964</td>\n",
       "                        <td id=\"T_a93d1_row17_col3\" class=\"data row17 col3\" >145093</td>\n",
       "                        <td id=\"T_a93d1_row17_col4\" class=\"data row17 col4\" >25156</td>\n",
       "            </tr>\n",
       "            <tr>\n",
       "                        <th id=\"T_a93d1_level0_row18\" class=\"row_heading level0 row18\" >16</th>\n",
       "                        <td id=\"T_a93d1_row18_col0\" class=\"data row18 col0\" >Jammu and Kashmir</td>\n",
       "                        <td id=\"T_a93d1_row18_col1\" class=\"data row18 col1\" >114038</td>\n",
       "                        <td id=\"T_a93d1_row18_col2\" class=\"data row18 col2\" >1761</td>\n",
       "                        <td id=\"T_a93d1_row18_col3\" class=\"data row18 col3\" >107282</td>\n",
       "                        <td id=\"T_a93d1_row18_col4\" class=\"data row18 col4\" >23033</td>\n",
       "            </tr>\n",
       "            <tr>\n",
       "                        <th id=\"T_a93d1_level0_row19\" class=\"row_heading level0 row19\" >17</th>\n",
       "                        <td id=\"T_a93d1_row19_col0\" class=\"data row19 col0\" >Jharkhand</td>\n",
       "                        <td id=\"T_a93d1_row19_col1\" class=\"data row19 col1\" >110639</td>\n",
       "                        <td id=\"T_a93d1_row19_col2\" class=\"data row19 col2\" >988</td>\n",
       "                        <td id=\"T_a93d1_row19_col3\" class=\"data row19 col3\" >107898</td>\n",
       "                        <td id=\"T_a93d1_row19_col4\" class=\"data row19 col4\" >16238</td>\n",
       "            </tr>\n",
       "            <tr>\n",
       "                        <th id=\"T_a93d1_level0_row20\" class=\"row_heading level0 row20\" >37</th>\n",
       "                        <td id=\"T_a93d1_row20_col0\" class=\"data row20 col0\" >Uttarakhand</td>\n",
       "                        <td id=\"T_a93d1_row20_col1\" class=\"data row20 col1\" >79141</td>\n",
       "                        <td id=\"T_a93d1_row20_col2\" class=\"data row20 col2\" >1307</td>\n",
       "                        <td id=\"T_a93d1_row20_col3\" class=\"data row20 col3\" >72435</td>\n",
       "                        <td id=\"T_a93d1_row20_col4\" class=\"data row20 col4\" >12946</td>\n",
       "            </tr>\n",
       "            <tr>\n",
       "                        <th id=\"T_a93d1_level0_row21\" class=\"row_heading level0 row21\" >12</th>\n",
       "                        <td id=\"T_a93d1_row21_col0\" class=\"data row21 col0\" >Goa</td>\n",
       "                        <td id=\"T_a93d1_row21_col1\" class=\"data row21 col1\" >48935</td>\n",
       "                        <td id=\"T_a93d1_row21_col2\" class=\"data row21 col2\" >701</td>\n",
       "                        <td id=\"T_a93d1_row21_col3\" class=\"data row21 col3\" >46924</td>\n",
       "                        <td id=\"T_a93d1_row21_col4\" class=\"data row21 col4\" >6262</td>\n",
       "            </tr>\n",
       "            <tr>\n",
       "                        <th id=\"T_a93d1_level0_row22\" class=\"row_heading level0 row22\" >15</th>\n",
       "                        <td id=\"T_a93d1_row22_col0\" class=\"data row22 col0\" >Himachal Pradesh</td>\n",
       "                        <td id=\"T_a93d1_row22_col1\" class=\"data row22 col1\" >46201</td>\n",
       "                        <td id=\"T_a93d1_row22_col2\" class=\"data row22 col2\" >753</td>\n",
       "                        <td id=\"T_a93d1_row22_col3\" class=\"data row22 col3\" >37871</td>\n",
       "                        <td id=\"T_a93d1_row22_col4\" class=\"data row22 col4\" >9279</td>\n",
       "            </tr>\n",
       "            <tr>\n",
       "                        <th id=\"T_a93d1_level0_row23\" class=\"row_heading level0 row23\" >28</th>\n",
       "                        <td id=\"T_a93d1_row23_col0\" class=\"data row23 col0\" >Puducherry</td>\n",
       "                        <td id=\"T_a93d1_row23_col1\" class=\"data row23 col1\" >37311</td>\n",
       "                        <td id=\"T_a93d1_row23_col2\" class=\"data row23 col2\" >615</td>\n",
       "                        <td id=\"T_a93d1_row23_col3\" class=\"data row23 col3\" >36308</td>\n",
       "                        <td id=\"T_a93d1_row23_col4\" class=\"data row23 col4\" >5827</td>\n",
       "            </tr>\n",
       "            <tr>\n",
       "                        <th id=\"T_a93d1_level0_row24\" class=\"row_heading level0 row24\" >34</th>\n",
       "                        <td id=\"T_a93d1_row24_col0\" class=\"data row24 col0\" >Tripura</td>\n",
       "                        <td id=\"T_a93d1_row24_col1\" class=\"data row24 col1\" >32945</td>\n",
       "                        <td id=\"T_a93d1_row24_col2\" class=\"data row24 col2\" >373</td>\n",
       "                        <td id=\"T_a93d1_row24_col3\" class=\"data row24 col3\" >32169</td>\n",
       "                        <td id=\"T_a93d1_row24_col4\" class=\"data row24 col4\" >7778</td>\n",
       "            </tr>\n",
       "            <tr>\n",
       "                        <th id=\"T_a93d1_level0_row25\" class=\"row_heading level0 row25\" >23</th>\n",
       "                        <td id=\"T_a93d1_row25_col0\" class=\"data row25 col0\" >Manipur</td>\n",
       "                        <td id=\"T_a93d1_row25_col1\" class=\"data row25 col1\" >26396</td>\n",
       "                        <td id=\"T_a93d1_row25_col2\" class=\"data row25 col2\" >311</td>\n",
       "                        <td id=\"T_a93d1_row25_col3\" class=\"data row25 col3\" >23166</td>\n",
       "                        <td id=\"T_a93d1_row25_col4\" class=\"data row25 col4\" >4468</td>\n",
       "            </tr>\n",
       "            <tr>\n",
       "                        <th id=\"T_a93d1_level0_row26\" class=\"row_heading level0 row26\" >6</th>\n",
       "                        <td id=\"T_a93d1_row26_col0\" class=\"data row26 col0\" >Chandigarh</td>\n",
       "                        <td id=\"T_a93d1_row26_col1\" class=\"data row26 col1\" >18239</td>\n",
       "                        <td id=\"T_a93d1_row26_col2\" class=\"data row26 col2\" >296</td>\n",
       "                        <td id=\"T_a93d1_row26_col3\" class=\"data row26 col3\" >16981</td>\n",
       "                        <td id=\"T_a93d1_row26_col4\" class=\"data row26 col4\" >3275</td>\n",
       "            </tr>\n",
       "            <tr>\n",
       "                        <th id=\"T_a93d1_level0_row27\" class=\"row_heading level0 row27\" >2</th>\n",
       "                        <td id=\"T_a93d1_row27_col0\" class=\"data row27 col0\" >Arunachal Pradesh</td>\n",
       "                        <td id=\"T_a93d1_row27_col1\" class=\"data row27 col1\" >16437</td>\n",
       "                        <td id=\"T_a93d1_row27_col2\" class=\"data row27 col2\" >55</td>\n",
       "                        <td id=\"T_a93d1_row27_col3\" class=\"data row27 col3\" >15690</td>\n",
       "                        <td id=\"T_a93d1_row27_col4\" class=\"data row27 col4\" >3098</td>\n",
       "            </tr>\n",
       "            <tr>\n",
       "                        <th id=\"T_a93d1_level0_row28\" class=\"row_heading level0 row28\" >24</th>\n",
       "                        <td id=\"T_a93d1_row28_col0\" class=\"data row28 col0\" >Meghalaya</td>\n",
       "                        <td id=\"T_a93d1_row28_col1\" class=\"data row28 col1\" >12410</td>\n",
       "                        <td id=\"T_a93d1_row28_col2\" class=\"data row28 col2\" >122</td>\n",
       "                        <td id=\"T_a93d1_row28_col3\" class=\"data row28 col3\" >11686</td>\n",
       "                        <td id=\"T_a93d1_row28_col4\" class=\"data row28 col4\" >2568</td>\n",
       "            </tr>\n",
       "            <tr>\n",
       "                        <th id=\"T_a93d1_level0_row29\" class=\"row_heading level0 row29\" >26</th>\n",
       "                        <td id=\"T_a93d1_row29_col0\" class=\"data row29 col0\" >Nagaland</td>\n",
       "                        <td id=\"T_a93d1_row29_col1\" class=\"data row29 col1\" >11479</td>\n",
       "                        <td id=\"T_a93d1_row29_col2\" class=\"data row29 col2\" >67</td>\n",
       "                        <td id=\"T_a93d1_row29_col3\" class=\"data row29 col3\" >10781</td>\n",
       "                        <td id=\"T_a93d1_row29_col4\" class=\"data row29 col4\" >2124</td>\n",
       "            </tr>\n",
       "            <tr>\n",
       "                        <th id=\"T_a93d1_level0_row30\" class=\"row_heading level0 row30\" >5</th>\n",
       "                        <td id=\"T_a93d1_row30_col0\" class=\"data row30 col0\" >Cases being reassigned to states</td>\n",
       "                        <td id=\"T_a93d1_row30_col1\" class=\"data row30 col1\" >9265</td>\n",
       "                        <td id=\"T_a93d1_row30_col2\" class=\"data row30 col2\" >0</td>\n",
       "                        <td id=\"T_a93d1_row30_col3\" class=\"data row30 col3\" >0</td>\n",
       "                        <td id=\"T_a93d1_row30_col4\" class=\"data row30 col4\" >9265</td>\n",
       "            </tr>\n",
       "            <tr>\n",
       "                        <th id=\"T_a93d1_level0_row31\" class=\"row_heading level0 row31\" >20</th>\n",
       "                        <td id=\"T_a93d1_row31_col0\" class=\"data row31 col0\" >Ladakh</td>\n",
       "                        <td id=\"T_a93d1_row31_col1\" class=\"data row31 col1\" >8969</td>\n",
       "                        <td id=\"T_a93d1_row31_col2\" class=\"data row31 col2\" >122</td>\n",
       "                        <td id=\"T_a93d1_row31_col3\" class=\"data row31 col3\" >8056</td>\n",
       "                        <td id=\"T_a93d1_row31_col4\" class=\"data row31 col4\" >1362</td>\n",
       "            </tr>\n",
       "            <tr>\n",
       "                        <th id=\"T_a93d1_level0_row32\" class=\"row_heading level0 row32\" >31</th>\n",
       "                        <td id=\"T_a93d1_row32_col0\" class=\"data row32 col0\" >Sikkim</td>\n",
       "                        <td id=\"T_a93d1_row32_col1\" class=\"data row32 col1\" >5215</td>\n",
       "                        <td id=\"T_a93d1_row32_col2\" class=\"data row32 col2\" >117</td>\n",
       "                        <td id=\"T_a93d1_row32_col3\" class=\"data row32 col3\" >4735</td>\n",
       "                        <td id=\"T_a93d1_row32_col4\" class=\"data row32 col4\" >736</td>\n",
       "            </tr>\n",
       "            <tr>\n",
       "                        <th id=\"T_a93d1_level0_row33\" class=\"row_heading level0 row33\" >0</th>\n",
       "                        <td id=\"T_a93d1_row33_col0\" class=\"data row33 col0\" >Andaman and Nicobar Islands</td>\n",
       "                        <td id=\"T_a93d1_row33_col1\" class=\"data row33 col1\" >4778</td>\n",
       "                        <td id=\"T_a93d1_row33_col2\" class=\"data row33 col2\" >61</td>\n",
       "                        <td id=\"T_a93d1_row33_col3\" class=\"data row33 col3\" >4647</td>\n",
       "                        <td id=\"T_a93d1_row33_col4\" class=\"data row33 col4\" >1178</td>\n",
       "            </tr>\n",
       "            <tr>\n",
       "                        <th id=\"T_a93d1_level0_row34\" class=\"row_heading level0 row34\" >25</th>\n",
       "                        <td id=\"T_a93d1_row34_col0\" class=\"data row34 col0\" >Mizoram</td>\n",
       "                        <td id=\"T_a93d1_row34_col1\" class=\"data row34 col1\" >3977</td>\n",
       "                        <td id=\"T_a93d1_row34_col2\" class=\"data row34 col2\" >6</td>\n",
       "                        <td id=\"T_a93d1_row34_col3\" class=\"data row34 col3\" >3772</td>\n",
       "                        <td id=\"T_a93d1_row34_col4\" class=\"data row34 col4\" >690</td>\n",
       "            </tr>\n",
       "            <tr>\n",
       "                        <th id=\"T_a93d1_level0_row35\" class=\"row_heading level0 row35\" >9</th>\n",
       "                        <td id=\"T_a93d1_row35_col0\" class=\"data row35 col0\" >Dadra and Nagar Haveli and Daman and Diu</td>\n",
       "                        <td id=\"T_a93d1_row35_col1\" class=\"data row35 col1\" >3351</td>\n",
       "                        <td id=\"T_a93d1_row35_col2\" class=\"data row35 col2\" >2</td>\n",
       "                        <td id=\"T_a93d1_row35_col3\" class=\"data row35 col3\" >3330</td>\n",
       "                        <td id=\"T_a93d1_row35_col4\" class=\"data row35 col4\" >466</td>\n",
       "            </tr>\n",
       "            <tr>\n",
       "                        <th id=\"T_a93d1_level0_row36\" class=\"row_heading level0 row36\" >35</th>\n",
       "                        <td id=\"T_a93d1_row36_col0\" class=\"data row36 col0\" >Unassigned</td>\n",
       "                        <td id=\"T_a93d1_row36_col1\" class=\"data row36 col1\" >77</td>\n",
       "                        <td id=\"T_a93d1_row36_col2\" class=\"data row36 col2\" >0</td>\n",
       "                        <td id=\"T_a93d1_row36_col3\" class=\"data row36 col3\" >0</td>\n",
       "                        <td id=\"T_a93d1_row36_col4\" class=\"data row36 col4\" >77</td>\n",
       "            </tr>\n",
       "            <tr>\n",
       "                        <th id=\"T_a93d1_level0_row37\" class=\"row_heading level0 row37\" >8</th>\n",
       "                        <td id=\"T_a93d1_row37_col0\" class=\"data row37 col0\" >Dadar Nagar Haveli</td>\n",
       "                        <td id=\"T_a93d1_row37_col1\" class=\"data row37 col1\" >26</td>\n",
       "                        <td id=\"T_a93d1_row37_col2\" class=\"data row37 col2\" >0</td>\n",
       "                        <td id=\"T_a93d1_row37_col3\" class=\"data row37 col3\" >2</td>\n",
       "                        <td id=\"T_a93d1_row37_col4\" class=\"data row37 col4\" >24</td>\n",
       "            </tr>\n",
       "            <tr>\n",
       "                        <th id=\"T_a93d1_level0_row38\" class=\"row_heading level0 row38\" >10</th>\n",
       "                        <td id=\"T_a93d1_row38_col0\" class=\"data row38 col0\" >Daman & Diu</td>\n",
       "                        <td id=\"T_a93d1_row38_col1\" class=\"data row38 col1\" >2</td>\n",
       "                        <td id=\"T_a93d1_row38_col2\" class=\"data row38 col2\" >0</td>\n",
       "                        <td id=\"T_a93d1_row38_col3\" class=\"data row38 col3\" >0</td>\n",
       "                        <td id=\"T_a93d1_row38_col4\" class=\"data row38 col4\" >2</td>\n",
       "            </tr>\n",
       "    </tbody></table>"
      ],
      "text/plain": [
       "<pandas.io.formats.style.Styler at 0x7f8dda7cfa10>"
      ]
     },
     "execution_count": 12,
     "metadata": {},
     "output_type": "execute_result"
    }
   ],
   "source": [
    "#Sort by maximum Confirmed Cases\n",
    "state_cases = state_cases.sort_values(by='Confirmed', ascending=False) \n",
    "state_cases.style.background_gradient(cmap='Blues',subset=[\"Confirmed\"])\\\n",
    "                        .background_gradient(cmap='Reds',subset=[\"Deaths\"])\\\n",
    "                        .background_gradient(cmap='Greens',subset=[\"Cured\"])\\\n",
    "                        .background_gradient(cmap='Blues', subset=[\"Active\"])\\\n",
    "                        "
   ]
  },
  {
   "cell_type": "markdown",
   "metadata": {
    "papermill": {
     "duration": 0.021899,
     "end_time": "2021-03-23T23:07:53.139146",
     "exception": false,
     "start_time": "2021-03-23T23:07:53.117247",
     "status": "completed"
    },
    "tags": []
   },
   "source": [
    "# Data Visualisation"
   ]
  },
  {
   "cell_type": "code",
   "execution_count": 13,
   "metadata": {
    "execution": {
     "iopub.execute_input": "2021-03-23T23:07:53.188459Z",
     "iopub.status.busy": "2021-03-23T23:07:53.187607Z",
     "iopub.status.idle": "2021-03-23T23:07:54.082567Z",
     "shell.execute_reply": "2021-03-23T23:07:54.080964Z"
    },
    "papermill": {
     "duration": 0.92196,
     "end_time": "2021-03-23T23:07:54.082818",
     "exception": false,
     "start_time": "2021-03-23T23:07:53.160858",
     "status": "completed"
    },
    "tags": []
   },
   "outputs": [],
   "source": [
    "import seaborn as sns\n",
    "import matplotlib.pyplot as plt\n",
    "%matplotlib inline\n",
    "\n",
    "import warnings\n",
    "warnings.filterwarnings('ignore')"
   ]
  },
  {
   "cell_type": "markdown",
   "metadata": {
    "papermill": {
     "duration": 0.021766,
     "end_time": "2021-03-23T23:07:54.126923",
     "exception": false,
     "start_time": "2021-03-23T23:07:54.105157",
     "status": "completed"
    },
    "tags": []
   },
   "source": [
    "from the below graphs, we can conclude that the states Maharastra, Karnataka, Tamilnadu, Andhra pradesh  stood first four places respectively in all the three types of cases('Active', 'Confirmed', 'Death')"
   ]
  },
  {
   "cell_type": "code",
   "execution_count": 14,
   "metadata": {
    "execution": {
     "iopub.execute_input": "2021-03-23T23:07:54.183577Z",
     "iopub.status.busy": "2021-03-23T23:07:54.182573Z",
     "iopub.status.idle": "2021-03-23T23:07:56.124280Z",
     "shell.execute_reply": "2021-03-23T23:07:56.123667Z"
    },
    "papermill": {
     "duration": 1.974715,
     "end_time": "2021-03-23T23:07:56.124417",
     "exception": false,
     "start_time": "2021-03-23T23:07:54.149702",
     "status": "completed"
    },
    "tags": []
   },
   "outputs": [
    {
     "data": {
      "text/plain": [
       "<AxesSubplot:xlabel='Active', ylabel='State'>"
      ]
     },
     "execution_count": 14,
     "metadata": {},
     "output_type": "execute_result"
    },
    {
     "data": {
      "image/png": "[encoded data removed]",
      "text/plain": [
       "<Figure size 432x864 with 1 Axes>"
      ]
     },
     "metadata": {
      "needs_background": "light"
     },
     "output_type": "display_data"
    }
   ],
   "source": [
    "plt.figure(figsize= (6,12))\n",
    "sns.barplot(x= 'Active', y = 'State',  data = df)"
   ]
  },
  {
   "cell_type": "code",
   "execution_count": 15,
   "metadata": {
    "execution": {
     "iopub.execute_input": "2021-03-23T23:07:56.182698Z",
     "iopub.status.busy": "2021-03-23T23:07:56.181916Z",
     "iopub.status.idle": "2021-03-23T23:07:57.989304Z",
     "shell.execute_reply": "2021-03-23T23:07:57.988629Z"
    },
    "papermill": {
     "duration": 1.840924,
     "end_time": "2021-03-23T23:07:57.989454",
     "exception": false,
     "start_time": "2021-03-23T23:07:56.148530",
     "status": "completed"
    },
    "tags": []
   },
   "outputs": [
    {
     "data": {
      "text/plain": [
       "<AxesSubplot:xlabel='Confirmed', ylabel='State'>"
      ]
     },
     "execution_count": 15,
     "metadata": {},
     "output_type": "execute_result"
    },
    {
     "data": {
      "image/png": "[encoded data removed]",
      "text/plain": [
       "<Figure size 432x864 with 1 Axes>"
      ]
     },
     "metadata": {
      "needs_background": "light"
     },
     "output_type": "display_data"
    }
   ],
   "source": [
    "plt.figure(figsize= (6,12))\n",
    "sns.barplot(x= 'Confirmed', y = 'State',  data = df)"
   ]
  },
  {
   "cell_type": "markdown",
   "metadata": {
    "papermill": {
     "duration": 0.02546,
     "end_time": "2021-03-23T23:07:58.040735",
     "exception": false,
     "start_time": "2021-03-23T23:07:58.015275",
     "status": "completed"
    },
    "tags": []
   },
   "source": [
    "* Here is the list of top ten effected states in India due to corona virus Pandemic.\n",
    "    * fatality ratio – is the proportion of deaths from a certain disease compared to the total number of people diagnosed with the disease for a particular period.\n",
    "    * Cure ratio = Cured cases / Confirmed Cases"
   ]
  },
  {
   "cell_type": "code",
   "execution_count": 16,
   "metadata": {
    "execution": {
     "iopub.execute_input": "2021-03-23T23:07:58.100155Z",
     "iopub.status.busy": "2021-03-23T23:07:58.099143Z",
     "iopub.status.idle": "2021-03-23T23:07:58.102444Z",
     "shell.execute_reply": "2021-03-23T23:07:58.101924Z"
    },
    "papermill": {
     "duration": 0.034956,
     "end_time": "2021-03-23T23:07:58.102591",
     "exception": false,
     "start_time": "2021-03-23T23:07:58.067635",
     "status": "completed"
    },
    "tags": []
   },
   "outputs": [],
   "source": [
    "df_topten = df.tail(35)\n",
    "df_new = df_topten.sort_values(by='Confirmed', ascending=False).head(10)"
   ]
  },
  {
   "cell_type": "code",
   "execution_count": 17,
   "metadata": {
    "execution": {
     "iopub.execute_input": "2021-03-23T23:07:58.192790Z",
     "iopub.status.busy": "2021-03-23T23:07:58.191703Z",
     "iopub.status.idle": "2021-03-23T23:07:58.387425Z",
     "shell.execute_reply": "2021-03-23T23:07:58.386691Z"
    },
    "papermill": {
     "duration": 0.258895,
     "end_time": "2021-03-23T23:07:58.387566",
     "exception": false,
     "start_time": "2021-03-23T23:07:58.128671",
     "status": "completed"
    },
    "tags": []
   },
   "outputs": [
    {
     "data": {
      "image/png": "[encoded data removed]",
      "text/plain": [
       "<Figure size 936x504 with 1 Axes>"
      ]
     },
     "metadata": {
      "needs_background": "light"
     },
     "output_type": "display_data"
    }
   ],
   "source": [
    "a4_dims = (13, 7)\n",
    "fig, ax = plt.subplots(figsize=a4_dims)\n",
    "barp = sns.barplot(data=df_new,x='State',y='Confirmed',ax=ax)\n",
    "barp.set_yticklabels(labels=(barp.get_yticks()*1).astype(int))\n",
    "plt.show()"
   ]
  },
  {
   "cell_type": "code",
   "execution_count": 18,
   "metadata": {
    "execution": {
     "iopub.execute_input": "2021-03-23T23:07:58.466246Z",
     "iopub.status.busy": "2021-03-23T23:07:58.465287Z",
     "iopub.status.idle": "2021-03-23T23:07:58.649971Z",
     "shell.execute_reply": "2021-03-23T23:07:58.650513Z"
    },
    "papermill": {
     "duration": 0.236199,
     "end_time": "2021-03-23T23:07:58.650686",
     "exception": false,
     "start_time": "2021-03-23T23:07:58.414487",
     "status": "completed"
    },
    "tags": []
   },
   "outputs": [
    {
     "data": {
      "image/png": "[encoded data removed]",
      "text/plain": [
       "<Figure size 720x432 with 1 Axes>"
      ]
     },
     "metadata": {
      "needs_background": "light"
     },
     "output_type": "display_data"
    }
   ],
   "source": [
    "df_new['Fatality-Ratio'] = df_new['Deaths']/df_new['Confirmed']\n",
    "a4_dims = (10, 6)\n",
    "fig, ax = plt.subplots(figsize=a4_dims)\n",
    "plt.title('Fatality-Ratio of Top 10 Contaminated States',size=15)\n",
    "sns.pointplot(data=df_new,x='State',y='Fatality-Ratio',ax=ax,color='Blue')\n",
    "plt.show()"
   ]
  },
  {
   "cell_type": "code",
   "execution_count": 19,
   "metadata": {
    "execution": {
     "iopub.execute_input": "2021-03-23T23:07:58.734989Z",
     "iopub.status.busy": "2021-03-23T23:07:58.731183Z",
     "iopub.status.idle": "2021-03-23T23:07:58.917666Z",
     "shell.execute_reply": "2021-03-23T23:07:58.916995Z"
    },
    "papermill": {
     "duration": 0.23842,
     "end_time": "2021-03-23T23:07:58.917824",
     "exception": false,
     "start_time": "2021-03-23T23:07:58.679404",
     "status": "completed"
    },
    "tags": []
   },
   "outputs": [
    {
     "data": {
      "image/png": "[encoded data removed]",
      "text/plain": [
       "<Figure size 720x432 with 1 Axes>"
      ]
     },
     "metadata": {
      "needs_background": "light"
     },
     "output_type": "display_data"
    }
   ],
   "source": [
    "df_new['CureRatio'] = df_new['Cured']/df_new['Confirmed']\n",
    "a4_dims = (10, 6)\n",
    "fig, ax = plt.subplots(figsize=a4_dims)\n",
    "plt.title('Cure-Ratio of Top 10 Contaminated States',size=15)\n",
    "sns.pointplot(data=df_new,x='State',y='CureRatio',ax=ax,color='Orange')\n",
    "plt.show()"
   ]
  },
  {
   "cell_type": "markdown",
   "metadata": {
    "papermill": {
     "duration": 0.029957,
     "end_time": "2021-03-23T23:07:58.978287",
     "exception": false,
     "start_time": "2021-03-23T23:07:58.948330",
     "status": "completed"
    },
    "tags": []
   },
   "source": [
    "In conclusion, from my analysis I would say Maharastra has highest number of infections and also all the southern states have more cases when compared to other states. Andhra Pradesh is in the first position of Cured ratio in top ten affected states(i.e., more patients are recovered). "
   ]
  }
 ],
 "metadata": {
  "kernelspec": {
   "display_name": "Python 3",
   "language": "python",
   "name": "python3"
  },
  "language_info": {
   "codemirror_mode": {
    "name": "ipython",
    "version": 3
   },
   "file_extension": ".py",
   "mimetype": "text/x-python",
   "name": "python",
   "nbconvert_exporter": "python",
   "pygments_lexer": "ipython3",
   "version": "3.7.9"
  },
  "papermill": {
   "default_parameters": {},
   "duration": 13.426712,
   "end_time": "2021-03-23T23:07:59.718552",
   "environment_variables": {},
   "exception": null,
   "input_path": "__notebook__.ipynb",
   "output_path": "__notebook__.ipynb",
   "parameters": {},
   "start_time": "2021-03-23T23:07:46.291840",
   "version": "2.2.2"
  }
 },
 "nbformat": 4,
 "nbformat_minor": 4
}
