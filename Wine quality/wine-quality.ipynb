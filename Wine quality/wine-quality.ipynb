{
 "cells": [
  {
   "cell_type": "code",
   "execution_count": 1,
   "metadata": {
    "_cell_guid": "b1076dfc-b9ad-4769-8c92-a6c4dae69d19",
    "_uuid": "8f2839f25d086af736a60e9eeb907d3b93b6e0e5",
    "execution": {
     "iopub.execute_input": "2021-02-23T16:50:17.466868Z",
     "iopub.status.busy": "2021-02-23T16:50:17.466236Z",
     "iopub.status.idle": "2021-02-23T16:50:17.482386Z",
     "shell.execute_reply": "2021-02-23T16:50:17.482951Z"
    },
    "papermill": {
     "duration": 0.037723,
     "end_time": "2021-02-23T16:50:17.483333",
     "exception": false,
     "start_time": "2021-02-23T16:50:17.445610",
     "status": "completed"
    },
    "tags": []
   },
   "outputs": [
    {
     "name": "stdout",
     "output_type": "stream",
     "text": [
      "/kaggle/input/red-wine-quality-cortez-et-al-2009/winequality-red.csv\n"
     ]
    }
   ],
   "source": [
    "# This Python 3 environment comes with many helpful analytics libraries installed\n",
    "# It is defined by the kaggle/python Docker image: https://github.com/kaggle/docker-python\n",
    "# For example, here's several helpful packages to load\n",
    "\n",
    "import numpy as np # linear algebra\n",
    "import pandas as pd # data processing, CSV file I/O (e.g. pd.read_csv)\n",
    "\n",
    "# Input data files are available in the read-only \"../input/\" directory\n",
    "# For example, running this (by clicking run or pressing Shift+Enter) will list all files under the input directory\n",
    "\n",
    "import os\n",
    "for dirname, _, filenames in os.walk('/kaggle/input'):\n",
    "    for filename in filenames:\n",
    "        print(os.path.join(dirname, filename))\n",
    "\n",
    "# You can write up to 20GB to the current directory (/kaggle/working/) that gets preserved as output when you create a version using \"Save & Run All\" \n",
    "# You can also write temporary files to /kaggle/temp/, but they won't be saved outside of the current session"
   ]
  },
  {
   "cell_type": "markdown",
   "metadata": {
    "papermill": {
     "duration": 0.017421,
     "end_time": "2021-02-23T16:50:17.518828",
     "exception": false,
     "start_time": "2021-02-23T16:50:17.501407",
     "status": "completed"
    },
    "tags": []
   },
   "source": [
    "# EDA"
   ]
  },
  {
   "cell_type": "code",
   "execution_count": 2,
   "metadata": {
    "execution": {
     "iopub.execute_input": "2021-02-23T16:50:17.561585Z",
     "iopub.status.busy": "2021-02-23T16:50:17.560793Z",
     "iopub.status.idle": "2021-02-23T16:50:17.622279Z",
     "shell.execute_reply": "2021-02-23T16:50:17.621718Z"
    },
    "papermill": {
     "duration": 0.084632,
     "end_time": "2021-02-23T16:50:17.622441",
     "exception": false,
     "start_time": "2021-02-23T16:50:17.537809",
     "status": "completed"
    },
    "tags": []
   },
   "outputs": [
    {
     "data": {
      "text/html": [
       "<div>\n",
       "<style scoped>\n",
       "    .dataframe tbody tr th:only-of-type {\n",
       "        vertical-align: middle;\n",
       "    }\n",
       "\n",
       "    .dataframe tbody tr th {\n",
       "        vertical-align: top;\n",
       "    }\n",
       "\n",
       "    .dataframe thead th {\n",
       "        text-align: right;\n",
       "    }\n",
       "</style>\n",
       "<table border=\"1\" class=\"dataframe\">\n",
       "  <thead>\n",
       "    <tr style=\"text-align: right;\">\n",
       "      <th></th>\n",
       "      <th>fixed acidity</th>\n",
       "      <th>volatile acidity</th>\n",
       "      <th>citric acid</th>\n",
       "      <th>residual sugar</th>\n",
       "      <th>chlorides</th>\n",
       "      <th>free sulfur dioxide</th>\n",
       "      <th>total sulfur dioxide</th>\n",
       "      <th>density</th>\n",
       "      <th>pH</th>\n",
       "      <th>sulphates</th>\n",
       "      <th>alcohol</th>\n",
       "      <th>quality</th>\n",
       "    </tr>\n",
       "  </thead>\n",
       "  <tbody>\n",
       "    <tr>\n",
       "      <th>0</th>\n",
       "      <td>7.4</td>\n",
       "      <td>0.70</td>\n",
       "      <td>0.00</td>\n",
       "      <td>1.9</td>\n",
       "      <td>0.076</td>\n",
       "      <td>11.0</td>\n",
       "      <td>34.0</td>\n",
       "      <td>0.9978</td>\n",
       "      <td>3.51</td>\n",
       "      <td>0.56</td>\n",
       "      <td>9.4</td>\n",
       "      <td>5</td>\n",
       "    </tr>\n",
       "    <tr>\n",
       "      <th>1</th>\n",
       "      <td>7.8</td>\n",
       "      <td>0.88</td>\n",
       "      <td>0.00</td>\n",
       "      <td>2.6</td>\n",
       "      <td>0.098</td>\n",
       "      <td>25.0</td>\n",
       "      <td>67.0</td>\n",
       "      <td>0.9968</td>\n",
       "      <td>3.20</td>\n",
       "      <td>0.68</td>\n",
       "      <td>9.8</td>\n",
       "      <td>5</td>\n",
       "    </tr>\n",
       "    <tr>\n",
       "      <th>2</th>\n",
       "      <td>7.8</td>\n",
       "      <td>0.76</td>\n",
       "      <td>0.04</td>\n",
       "      <td>2.3</td>\n",
       "      <td>0.092</td>\n",
       "      <td>15.0</td>\n",
       "      <td>54.0</td>\n",
       "      <td>0.9970</td>\n",
       "      <td>3.26</td>\n",
       "      <td>0.65</td>\n",
       "      <td>9.8</td>\n",
       "      <td>5</td>\n",
       "    </tr>\n",
       "    <tr>\n",
       "      <th>3</th>\n",
       "      <td>11.2</td>\n",
       "      <td>0.28</td>\n",
       "      <td>0.56</td>\n",
       "      <td>1.9</td>\n",
       "      <td>0.075</td>\n",
       "      <td>17.0</td>\n",
       "      <td>60.0</td>\n",
       "      <td>0.9980</td>\n",
       "      <td>3.16</td>\n",
       "      <td>0.58</td>\n",
       "      <td>9.8</td>\n",
       "      <td>6</td>\n",
       "    </tr>\n",
       "    <tr>\n",
       "      <th>4</th>\n",
       "      <td>7.4</td>\n",
       "      <td>0.70</td>\n",
       "      <td>0.00</td>\n",
       "      <td>1.9</td>\n",
       "      <td>0.076</td>\n",
       "      <td>11.0</td>\n",
       "      <td>34.0</td>\n",
       "      <td>0.9978</td>\n",
       "      <td>3.51</td>\n",
       "      <td>0.56</td>\n",
       "      <td>9.4</td>\n",
       "      <td>5</td>\n",
       "    </tr>\n",
       "  </tbody>\n",
       "</table>\n",
       "</div>"
      ],
      "text/plain": [
       "   fixed acidity  volatile acidity  citric acid  residual sugar  chlorides  \\\n",
       "0            7.4              0.70         0.00             1.9      0.076   \n",
       "1            7.8              0.88         0.00             2.6      0.098   \n",
       "2            7.8              0.76         0.04             2.3      0.092   \n",
       "3           11.2              0.28         0.56             1.9      0.075   \n",
       "4            7.4              0.70         0.00             1.9      0.076   \n",
       "\n",
       "   free sulfur dioxide  total sulfur dioxide  density    pH  sulphates  \\\n",
       "0                 11.0                  34.0   0.9978  3.51       0.56   \n",
       "1                 25.0                  67.0   0.9968  3.20       0.68   \n",
       "2                 15.0                  54.0   0.9970  3.26       0.65   \n",
       "3                 17.0                  60.0   0.9980  3.16       0.58   \n",
       "4                 11.0                  34.0   0.9978  3.51       0.56   \n",
       "\n",
       "   alcohol  quality  \n",
       "0      9.4        5  \n",
       "1      9.8        5  \n",
       "2      9.8        5  \n",
       "3      9.8        6  \n",
       "4      9.4        5  "
      ]
     },
     "execution_count": 2,
     "metadata": {},
     "output_type": "execute_result"
    }
   ],
   "source": [
    "df = pd.read_csv('/kaggle/input/red-wine-quality-cortez-et-al-2009/winequality-red.csv')\n",
    "df.head()"
   ]
  },
  {
   "cell_type": "code",
   "execution_count": 3,
   "metadata": {
    "execution": {
     "iopub.execute_input": "2021-02-23T16:50:17.678244Z",
     "iopub.status.busy": "2021-02-23T16:50:17.677189Z",
     "iopub.status.idle": "2021-02-23T16:50:17.683189Z",
     "shell.execute_reply": "2021-02-23T16:50:17.682618Z"
    },
    "papermill": {
     "duration": 0.043243,
     "end_time": "2021-02-23T16:50:17.683347",
     "exception": false,
     "start_time": "2021-02-23T16:50:17.640104",
     "status": "completed"
    },
    "tags": []
   },
   "outputs": [
    {
     "name": "stdout",
     "output_type": "stream",
     "text": [
      "<class 'pandas.core.frame.DataFrame'>\n",
      "RangeIndex: 1599 entries, 0 to 1598\n",
      "Data columns (total 12 columns):\n",
      " #   Column                Non-Null Count  Dtype  \n",
      "---  ------                --------------  -----  \n",
      " 0   fixed acidity         1599 non-null   float64\n",
      " 1   volatile acidity      1599 non-null   float64\n",
      " 2   citric acid           1599 non-null   float64\n",
      " 3   residual sugar        1599 non-null   float64\n",
      " 4   chlorides             1599 non-null   float64\n",
      " 5   free sulfur dioxide   1599 non-null   float64\n",
      " 6   total sulfur dioxide  1599 non-null   float64\n",
      " 7   density               1599 non-null   float64\n",
      " 8   pH                    1599 non-null   float64\n",
      " 9   sulphates             1599 non-null   float64\n",
      " 10  alcohol               1599 non-null   float64\n",
      " 11  quality               1599 non-null   int64  \n",
      "dtypes: float64(11), int64(1)\n",
      "memory usage: 150.0 KB\n"
     ]
    }
   ],
   "source": [
    "df.info()"
   ]
  },
  {
   "cell_type": "markdown",
   "metadata": {
    "papermill": {
     "duration": 0.018605,
     "end_time": "2021-02-23T16:50:17.720620",
     "exception": false,
     "start_time": "2021-02-23T16:50:17.702015",
     "status": "completed"
    },
    "tags": []
   },
   "source": [
    "Info shows there are no missing values. going to examine data furthermore"
   ]
  },
  {
   "cell_type": "code",
   "execution_count": 4,
   "metadata": {
    "execution": {
     "iopub.execute_input": "2021-02-23T16:50:17.774595Z",
     "iopub.status.busy": "2021-02-23T16:50:17.773762Z",
     "iopub.status.idle": "2021-02-23T16:50:17.778322Z",
     "shell.execute_reply": "2021-02-23T16:50:17.778838Z"
    },
    "papermill": {
     "duration": 0.039874,
     "end_time": "2021-02-23T16:50:17.779017",
     "exception": false,
     "start_time": "2021-02-23T16:50:17.739143",
     "status": "completed"
    },
    "tags": []
   },
   "outputs": [
    {
     "data": {
      "text/html": [
       "<div>\n",
       "<style scoped>\n",
       "    .dataframe tbody tr th:only-of-type {\n",
       "        vertical-align: middle;\n",
       "    }\n",
       "\n",
       "    .dataframe tbody tr th {\n",
       "        vertical-align: top;\n",
       "    }\n",
       "\n",
       "    .dataframe thead th {\n",
       "        text-align: right;\n",
       "    }\n",
       "</style>\n",
       "<table border=\"1\" class=\"dataframe\">\n",
       "  <thead>\n",
       "    <tr style=\"text-align: right;\">\n",
       "      <th></th>\n",
       "      <th>fixed acidity</th>\n",
       "      <th>volatile acidity</th>\n",
       "      <th>citric acid</th>\n",
       "      <th>residual sugar</th>\n",
       "      <th>chlorides</th>\n",
       "      <th>free sulfur dioxide</th>\n",
       "      <th>total sulfur dioxide</th>\n",
       "      <th>density</th>\n",
       "      <th>pH</th>\n",
       "      <th>sulphates</th>\n",
       "      <th>alcohol</th>\n",
       "      <th>quality</th>\n",
       "    </tr>\n",
       "  </thead>\n",
       "  <tbody>\n",
       "    <tr>\n",
       "      <th>0</th>\n",
       "      <td>False</td>\n",
       "      <td>False</td>\n",
       "      <td>False</td>\n",
       "      <td>False</td>\n",
       "      <td>False</td>\n",
       "      <td>False</td>\n",
       "      <td>False</td>\n",
       "      <td>False</td>\n",
       "      <td>False</td>\n",
       "      <td>False</td>\n",
       "      <td>False</td>\n",
       "      <td>False</td>\n",
       "    </tr>\n",
       "  </tbody>\n",
       "</table>\n",
       "</div>"
      ],
      "text/plain": [
       "   fixed acidity  volatile acidity  citric acid  residual sugar  chlorides  \\\n",
       "0          False             False        False           False      False   \n",
       "\n",
       "   free sulfur dioxide  total sulfur dioxide  density     pH  sulphates  \\\n",
       "0                False                 False    False  False      False   \n",
       "\n",
       "   alcohol  quality  \n",
       "0    False    False  "
      ]
     },
     "execution_count": 4,
     "metadata": {},
     "output_type": "execute_result"
    }
   ],
   "source": [
    "df.iloc[0:1, :].isna()"
   ]
  },
  {
   "cell_type": "code",
   "execution_count": 5,
   "metadata": {
    "execution": {
     "iopub.execute_input": "2021-02-23T16:50:17.824409Z",
     "iopub.status.busy": "2021-02-23T16:50:17.823438Z",
     "iopub.status.idle": "2021-02-23T16:50:17.828668Z",
     "shell.execute_reply": "2021-02-23T16:50:17.829205Z"
    },
    "papermill": {
     "duration": 0.031631,
     "end_time": "2021-02-23T16:50:17.829390",
     "exception": false,
     "start_time": "2021-02-23T16:50:17.797759",
     "status": "completed"
    },
    "tags": []
   },
   "outputs": [
    {
     "data": {
      "text/plain": [
       "fixed acidity           float64\n",
       "volatile acidity        float64\n",
       "citric acid             float64\n",
       "residual sugar          float64\n",
       "chlorides               float64\n",
       "free sulfur dioxide     float64\n",
       "total sulfur dioxide    float64\n",
       "density                 float64\n",
       "pH                      float64\n",
       "sulphates               float64\n",
       "alcohol                 float64\n",
       "quality                   int64\n",
       "dtype: object"
      ]
     },
     "execution_count": 5,
     "metadata": {},
     "output_type": "execute_result"
    }
   ],
   "source": [
    "df.dtypes"
   ]
  },
  {
   "cell_type": "markdown",
   "metadata": {
    "papermill": {
     "duration": 0.019464,
     "end_time": "2021-02-23T16:50:17.869736",
     "exception": false,
     "start_time": "2021-02-23T16:50:17.850272",
     "status": "completed"
    },
    "tags": []
   },
   "source": [
    "All the features having the float values except quality "
   ]
  },
  {
   "cell_type": "code",
   "execution_count": 6,
   "metadata": {
    "execution": {
     "iopub.execute_input": "2021-02-23T16:50:17.918939Z",
     "iopub.status.busy": "2021-02-23T16:50:17.918244Z",
     "iopub.status.idle": "2021-02-23T16:50:17.923314Z",
     "shell.execute_reply": "2021-02-23T16:50:17.922621Z"
    },
    "papermill": {
     "duration": 0.033371,
     "end_time": "2021-02-23T16:50:17.923479",
     "exception": false,
     "start_time": "2021-02-23T16:50:17.890108",
     "status": "completed"
    },
    "tags": []
   },
   "outputs": [
    {
     "data": {
      "text/plain": [
       "5    681\n",
       "6    638\n",
       "7    199\n",
       "4     53\n",
       "8     18\n",
       "3     10\n",
       "Name: quality, dtype: int64"
      ]
     },
     "execution_count": 6,
     "metadata": {},
     "output_type": "execute_result"
    }
   ],
   "source": [
    "df['quality'].value_counts()"
   ]
  },
  {
   "cell_type": "markdown",
   "metadata": {
    "papermill": {
     "duration": 0.02075,
     "end_time": "2021-02-23T16:50:17.964572",
     "exception": false,
     "start_time": "2021-02-23T16:50:17.943822",
     "status": "completed"
    },
    "tags": []
   },
   "source": [
    "The above function provides --> wine quality with 5 & 6 are more in number all over the data."
   ]
  },
  {
   "cell_type": "markdown",
   "metadata": {
    "papermill": {
     "duration": 0.020039,
     "end_time": "2021-02-23T16:50:18.005728",
     "exception": false,
     "start_time": "2021-02-23T16:50:17.985689",
     "status": "completed"
    },
    "tags": []
   },
   "source": [
    "# Visualization"
   ]
  },
  {
   "cell_type": "code",
   "execution_count": 7,
   "metadata": {
    "execution": {
     "iopub.execute_input": "2021-02-23T16:50:18.054012Z",
     "iopub.status.busy": "2021-02-23T16:50:18.053327Z",
     "iopub.status.idle": "2021-02-23T16:50:19.213869Z",
     "shell.execute_reply": "2021-02-23T16:50:19.214423Z"
    },
    "papermill": {
     "duration": 1.188609,
     "end_time": "2021-02-23T16:50:19.214621",
     "exception": false,
     "start_time": "2021-02-23T16:50:18.026012",
     "status": "completed"
    },
    "tags": []
   },
   "outputs": [
    {
     "data": {
      "text/plain": [
       "<AxesSubplot:xlabel='quality', ylabel='count'>"
      ]
     },
     "execution_count": 7,
     "metadata": {},
     "output_type": "execute_result"
    },
    {
     "data": {
      "image/png": "[encoded data removed]",
      "text/plain": [
       "<Figure size 720x576 with 1 Axes>"
      ]
     },
     "metadata": {
      "needs_background": "light"
     },
     "output_type": "display_data"
    }
   ],
   "source": [
    "import matplotlib.pyplot as plt\n",
    "import seaborn as sns\n",
    "%matplotlib inline\n",
    "\n",
    "plt.figure(figsize= (10,8))\n",
    "sns.set_style('darkgrid')\n",
    "\n",
    "sns.countplot(x = 'quality', data = df)"
   ]
  },
  {
   "cell_type": "code",
   "execution_count": 8,
   "metadata": {
    "execution": {
     "iopub.execute_input": "2021-02-23T16:50:19.260390Z",
     "iopub.status.busy": "2021-02-23T16:50:19.259541Z",
     "iopub.status.idle": "2021-02-23T16:50:19.421404Z",
     "shell.execute_reply": "2021-02-23T16:50:19.421944Z"
    },
    "papermill": {
     "duration": 0.186584,
     "end_time": "2021-02-23T16:50:19.422153",
     "exception": false,
     "start_time": "2021-02-23T16:50:19.235569",
     "status": "completed"
    },
    "tags": []
   },
   "outputs": [
    {
     "data": {
      "text/plain": [
       "<AxesSubplot:xlabel='quality'>"
      ]
     },
     "execution_count": 8,
     "metadata": {},
     "output_type": "execute_result"
    },
    {
     "data": {
      "image/png": "[encoded data removed]",
      "text/plain": [
       "<Figure size 432x288 with 1 Axes>"
      ]
     },
     "metadata": {},
     "output_type": "display_data"
    }
   ],
   "source": [
    "sns.boxplot(x = 'quality', data = df)"
   ]
  },
  {
   "cell_type": "markdown",
   "metadata": {
    "papermill": {
     "duration": 0.021298,
     "end_time": "2021-02-23T16:50:19.465316",
     "exception": false,
     "start_time": "2021-02-23T16:50:19.444018",
     "status": "completed"
    },
    "tags": []
   },
   "source": [
    "from this graph assuming the quality above 6 is considered as 'good' and below 6 as 'bad'."
   ]
  },
  {
   "cell_type": "code",
   "execution_count": 9,
   "metadata": {
    "execution": {
     "iopub.execute_input": "2021-02-23T16:50:19.516240Z",
     "iopub.status.busy": "2021-02-23T16:50:19.515329Z",
     "iopub.status.idle": "2021-02-23T16:50:19.518592Z",
     "shell.execute_reply": "2021-02-23T16:50:19.517971Z"
    },
    "papermill": {
     "duration": 0.031535,
     "end_time": "2021-02-23T16:50:19.518744",
     "exception": false,
     "start_time": "2021-02-23T16:50:19.487209",
     "status": "completed"
    },
    "tags": []
   },
   "outputs": [],
   "source": [
    "df['quality'] = ['good' if i>6 else 'bad' for i in df['quality']]"
   ]
  },
  {
   "cell_type": "code",
   "execution_count": 10,
   "metadata": {
    "execution": {
     "iopub.execute_input": "2021-02-23T16:50:19.570317Z",
     "iopub.status.busy": "2021-02-23T16:50:19.569454Z",
     "iopub.status.idle": "2021-02-23T16:50:19.574319Z",
     "shell.execute_reply": "2021-02-23T16:50:19.573233Z"
    },
    "papermill": {
     "duration": 0.034035,
     "end_time": "2021-02-23T16:50:19.574586",
     "exception": false,
     "start_time": "2021-02-23T16:50:19.540551",
     "status": "completed"
    },
    "tags": []
   },
   "outputs": [
    {
     "name": "stdout",
     "output_type": "stream",
     "text": [
      "0    bad\n",
      "1    bad\n",
      "2    bad\n",
      "Name: quality, dtype: object\n"
     ]
    }
   ],
   "source": [
    "print(df['quality'].head(3))"
   ]
  },
  {
   "cell_type": "code",
   "execution_count": 11,
   "metadata": {
    "execution": {
     "iopub.execute_input": "2021-02-23T16:50:19.623820Z",
     "iopub.status.busy": "2021-02-23T16:50:19.623115Z",
     "iopub.status.idle": "2021-02-23T16:50:19.636980Z",
     "shell.execute_reply": "2021-02-23T16:50:19.637652Z"
    },
    "papermill": {
     "duration": 0.039874,
     "end_time": "2021-02-23T16:50:19.637833",
     "exception": false,
     "start_time": "2021-02-23T16:50:19.597959",
     "status": "completed"
    },
    "tags": []
   },
   "outputs": [
    {
     "name": "stdout",
     "output_type": "stream",
     "text": [
      "<class 'pandas.core.frame.DataFrame'>\n",
      "RangeIndex: 1599 entries, 0 to 1598\n",
      "Data columns (total 12 columns):\n",
      " #   Column                Non-Null Count  Dtype  \n",
      "---  ------                --------------  -----  \n",
      " 0   fixed acidity         1599 non-null   float64\n",
      " 1   volatile acidity      1599 non-null   float64\n",
      " 2   citric acid           1599 non-null   float64\n",
      " 3   residual sugar        1599 non-null   float64\n",
      " 4   chlorides             1599 non-null   float64\n",
      " 5   free sulfur dioxide   1599 non-null   float64\n",
      " 6   total sulfur dioxide  1599 non-null   float64\n",
      " 7   density               1599 non-null   float64\n",
      " 8   pH                    1599 non-null   float64\n",
      " 9   sulphates             1599 non-null   float64\n",
      " 10  alcohol               1599 non-null   float64\n",
      " 11  quality               1599 non-null   object \n",
      "dtypes: float64(11), object(1)\n",
      "memory usage: 150.0+ KB\n"
     ]
    }
   ],
   "source": [
    "df.info()"
   ]
  },
  {
   "cell_type": "markdown",
   "metadata": {
    "papermill": {
     "duration": 0.022419,
     "end_time": "2021-02-23T16:50:19.683028",
     "exception": false,
     "start_time": "2021-02-23T16:50:19.660609",
     "status": "completed"
    },
    "tags": []
   },
   "source": [
    "Now observe the dtype of quality has changed to 'object' which means category"
   ]
  },
  {
   "cell_type": "code",
   "execution_count": 12,
   "metadata": {
    "execution": {
     "iopub.execute_input": "2021-02-23T16:50:19.736552Z",
     "iopub.status.busy": "2021-02-23T16:50:19.735623Z",
     "iopub.status.idle": "2021-02-23T16:50:19.739441Z",
     "shell.execute_reply": "2021-02-23T16:50:19.739883Z"
    },
    "papermill": {
     "duration": 0.034356,
     "end_time": "2021-02-23T16:50:19.740086",
     "exception": false,
     "start_time": "2021-02-23T16:50:19.705730",
     "status": "completed"
    },
    "tags": []
   },
   "outputs": [
    {
     "data": {
      "text/plain": [
       "bad     1382\n",
       "good     217\n",
       "Name: quality, dtype: int64"
      ]
     },
     "execution_count": 12,
     "metadata": {},
     "output_type": "execute_result"
    }
   ],
   "source": [
    "df['quality'].value_counts()"
   ]
  },
  {
   "cell_type": "code",
   "execution_count": 13,
   "metadata": {
    "execution": {
     "iopub.execute_input": "2021-02-23T16:50:19.797284Z",
     "iopub.status.busy": "2021-02-23T16:50:19.796110Z",
     "iopub.status.idle": "2021-02-23T16:50:20.054692Z",
     "shell.execute_reply": "2021-02-23T16:50:20.054042Z"
    },
    "papermill": {
     "duration": 0.288702,
     "end_time": "2021-02-23T16:50:20.054848",
     "exception": false,
     "start_time": "2021-02-23T16:50:19.766146",
     "status": "completed"
    },
    "tags": []
   },
   "outputs": [],
   "source": [
    "from sklearn.preprocessing import LabelEncoder\n",
    "le  = LabelEncoder()\n",
    "\n",
    "df['quality'] = le.fit_transform(df['quality'])"
   ]
  },
  {
   "cell_type": "code",
   "execution_count": 14,
   "metadata": {
    "execution": {
     "iopub.execute_input": "2021-02-23T16:50:20.124294Z",
     "iopub.status.busy": "2021-02-23T16:50:20.117242Z",
     "iopub.status.idle": "2021-02-23T16:50:20.136896Z",
     "shell.execute_reply": "2021-02-23T16:50:20.136121Z"
    },
    "papermill": {
     "duration": 0.058131,
     "end_time": "2021-02-23T16:50:20.137083",
     "exception": false,
     "start_time": "2021-02-23T16:50:20.078952",
     "status": "completed"
    },
    "tags": []
   },
   "outputs": [
    {
     "data": {
      "text/html": [
       "<div>\n",
       "<style scoped>\n",
       "    .dataframe tbody tr th:only-of-type {\n",
       "        vertical-align: middle;\n",
       "    }\n",
       "\n",
       "    .dataframe tbody tr th {\n",
       "        vertical-align: top;\n",
       "    }\n",
       "\n",
       "    .dataframe thead th {\n",
       "        text-align: right;\n",
       "    }\n",
       "</style>\n",
       "<table border=\"1\" class=\"dataframe\">\n",
       "  <thead>\n",
       "    <tr style=\"text-align: right;\">\n",
       "      <th></th>\n",
       "      <th>fixed acidity</th>\n",
       "      <th>volatile acidity</th>\n",
       "      <th>citric acid</th>\n",
       "      <th>residual sugar</th>\n",
       "      <th>chlorides</th>\n",
       "      <th>free sulfur dioxide</th>\n",
       "      <th>total sulfur dioxide</th>\n",
       "      <th>density</th>\n",
       "      <th>pH</th>\n",
       "      <th>sulphates</th>\n",
       "      <th>alcohol</th>\n",
       "      <th>quality</th>\n",
       "    </tr>\n",
       "  </thead>\n",
       "  <tbody>\n",
       "    <tr>\n",
       "      <th>0</th>\n",
       "      <td>7.4</td>\n",
       "      <td>0.70</td>\n",
       "      <td>0.00</td>\n",
       "      <td>1.9</td>\n",
       "      <td>0.076</td>\n",
       "      <td>11.0</td>\n",
       "      <td>34.0</td>\n",
       "      <td>0.9978</td>\n",
       "      <td>3.51</td>\n",
       "      <td>0.56</td>\n",
       "      <td>9.4</td>\n",
       "      <td>0</td>\n",
       "    </tr>\n",
       "    <tr>\n",
       "      <th>1</th>\n",
       "      <td>7.8</td>\n",
       "      <td>0.88</td>\n",
       "      <td>0.00</td>\n",
       "      <td>2.6</td>\n",
       "      <td>0.098</td>\n",
       "      <td>25.0</td>\n",
       "      <td>67.0</td>\n",
       "      <td>0.9968</td>\n",
       "      <td>3.20</td>\n",
       "      <td>0.68</td>\n",
       "      <td>9.8</td>\n",
       "      <td>0</td>\n",
       "    </tr>\n",
       "    <tr>\n",
       "      <th>2</th>\n",
       "      <td>7.8</td>\n",
       "      <td>0.76</td>\n",
       "      <td>0.04</td>\n",
       "      <td>2.3</td>\n",
       "      <td>0.092</td>\n",
       "      <td>15.0</td>\n",
       "      <td>54.0</td>\n",
       "      <td>0.9970</td>\n",
       "      <td>3.26</td>\n",
       "      <td>0.65</td>\n",
       "      <td>9.8</td>\n",
       "      <td>0</td>\n",
       "    </tr>\n",
       "    <tr>\n",
       "      <th>3</th>\n",
       "      <td>11.2</td>\n",
       "      <td>0.28</td>\n",
       "      <td>0.56</td>\n",
       "      <td>1.9</td>\n",
       "      <td>0.075</td>\n",
       "      <td>17.0</td>\n",
       "      <td>60.0</td>\n",
       "      <td>0.9980</td>\n",
       "      <td>3.16</td>\n",
       "      <td>0.58</td>\n",
       "      <td>9.8</td>\n",
       "      <td>0</td>\n",
       "    </tr>\n",
       "    <tr>\n",
       "      <th>4</th>\n",
       "      <td>7.4</td>\n",
       "      <td>0.70</td>\n",
       "      <td>0.00</td>\n",
       "      <td>1.9</td>\n",
       "      <td>0.076</td>\n",
       "      <td>11.0</td>\n",
       "      <td>34.0</td>\n",
       "      <td>0.9978</td>\n",
       "      <td>3.51</td>\n",
       "      <td>0.56</td>\n",
       "      <td>9.4</td>\n",
       "      <td>0</td>\n",
       "    </tr>\n",
       "    <tr>\n",
       "      <th>5</th>\n",
       "      <td>7.4</td>\n",
       "      <td>0.66</td>\n",
       "      <td>0.00</td>\n",
       "      <td>1.8</td>\n",
       "      <td>0.075</td>\n",
       "      <td>13.0</td>\n",
       "      <td>40.0</td>\n",
       "      <td>0.9978</td>\n",
       "      <td>3.51</td>\n",
       "      <td>0.56</td>\n",
       "      <td>9.4</td>\n",
       "      <td>0</td>\n",
       "    </tr>\n",
       "    <tr>\n",
       "      <th>6</th>\n",
       "      <td>7.9</td>\n",
       "      <td>0.60</td>\n",
       "      <td>0.06</td>\n",
       "      <td>1.6</td>\n",
       "      <td>0.069</td>\n",
       "      <td>15.0</td>\n",
       "      <td>59.0</td>\n",
       "      <td>0.9964</td>\n",
       "      <td>3.30</td>\n",
       "      <td>0.46</td>\n",
       "      <td>9.4</td>\n",
       "      <td>0</td>\n",
       "    </tr>\n",
       "    <tr>\n",
       "      <th>7</th>\n",
       "      <td>7.3</td>\n",
       "      <td>0.65</td>\n",
       "      <td>0.00</td>\n",
       "      <td>1.2</td>\n",
       "      <td>0.065</td>\n",
       "      <td>15.0</td>\n",
       "      <td>21.0</td>\n",
       "      <td>0.9946</td>\n",
       "      <td>3.39</td>\n",
       "      <td>0.47</td>\n",
       "      <td>10.0</td>\n",
       "      <td>1</td>\n",
       "    </tr>\n",
       "    <tr>\n",
       "      <th>8</th>\n",
       "      <td>7.8</td>\n",
       "      <td>0.58</td>\n",
       "      <td>0.02</td>\n",
       "      <td>2.0</td>\n",
       "      <td>0.073</td>\n",
       "      <td>9.0</td>\n",
       "      <td>18.0</td>\n",
       "      <td>0.9968</td>\n",
       "      <td>3.36</td>\n",
       "      <td>0.57</td>\n",
       "      <td>9.5</td>\n",
       "      <td>1</td>\n",
       "    </tr>\n",
       "    <tr>\n",
       "      <th>9</th>\n",
       "      <td>7.5</td>\n",
       "      <td>0.50</td>\n",
       "      <td>0.36</td>\n",
       "      <td>6.1</td>\n",
       "      <td>0.071</td>\n",
       "      <td>17.0</td>\n",
       "      <td>102.0</td>\n",
       "      <td>0.9978</td>\n",
       "      <td>3.35</td>\n",
       "      <td>0.80</td>\n",
       "      <td>10.5</td>\n",
       "      <td>0</td>\n",
       "    </tr>\n",
       "  </tbody>\n",
       "</table>\n",
       "</div>"
      ],
      "text/plain": [
       "   fixed acidity  volatile acidity  citric acid  residual sugar  chlorides  \\\n",
       "0            7.4              0.70         0.00             1.9      0.076   \n",
       "1            7.8              0.88         0.00             2.6      0.098   \n",
       "2            7.8              0.76         0.04             2.3      0.092   \n",
       "3           11.2              0.28         0.56             1.9      0.075   \n",
       "4            7.4              0.70         0.00             1.9      0.076   \n",
       "5            7.4              0.66         0.00             1.8      0.075   \n",
       "6            7.9              0.60         0.06             1.6      0.069   \n",
       "7            7.3              0.65         0.00             1.2      0.065   \n",
       "8            7.8              0.58         0.02             2.0      0.073   \n",
       "9            7.5              0.50         0.36             6.1      0.071   \n",
       "\n",
       "   free sulfur dioxide  total sulfur dioxide  density    pH  sulphates  \\\n",
       "0                 11.0                  34.0   0.9978  3.51       0.56   \n",
       "1                 25.0                  67.0   0.9968  3.20       0.68   \n",
       "2                 15.0                  54.0   0.9970  3.26       0.65   \n",
       "3                 17.0                  60.0   0.9980  3.16       0.58   \n",
       "4                 11.0                  34.0   0.9978  3.51       0.56   \n",
       "5                 13.0                  40.0   0.9978  3.51       0.56   \n",
       "6                 15.0                  59.0   0.9964  3.30       0.46   \n",
       "7                 15.0                  21.0   0.9946  3.39       0.47   \n",
       "8                  9.0                  18.0   0.9968  3.36       0.57   \n",
       "9                 17.0                 102.0   0.9978  3.35       0.80   \n",
       "\n",
       "   alcohol  quality  \n",
       "0      9.4        0  \n",
       "1      9.8        0  \n",
       "2      9.8        0  \n",
       "3      9.8        0  \n",
       "4      9.4        0  \n",
       "5      9.4        0  \n",
       "6      9.4        0  \n",
       "7     10.0        1  \n",
       "8      9.5        1  \n",
       "9     10.5        0  "
      ]
     },
     "execution_count": 14,
     "metadata": {},
     "output_type": "execute_result"
    }
   ],
   "source": [
    "df.head(10)"
   ]
  },
  {
   "cell_type": "markdown",
   "metadata": {
    "papermill": {
     "duration": 0.02483,
     "end_time": "2021-02-23T16:50:20.186387",
     "exception": false,
     "start_time": "2021-02-23T16:50:20.161557",
     "status": "completed"
    },
    "tags": []
   },
   "source": [
    "The categorical values converted to numericals\n",
    "\n",
    "In quality feature 0 means bad\n",
    "                   1 means good"
   ]
  },
  {
   "cell_type": "markdown",
   "metadata": {
    "papermill": {
     "duration": 0.024592,
     "end_time": "2021-02-23T16:50:20.235525",
     "exception": false,
     "start_time": "2021-02-23T16:50:20.210933",
     "status": "completed"
    },
    "tags": []
   },
   "source": [
    "# Test Train Split"
   ]
  },
  {
   "cell_type": "markdown",
   "metadata": {
    "papermill": {
     "duration": 0.024062,
     "end_time": "2021-02-23T16:50:20.284033",
     "exception": false,
     "start_time": "2021-02-23T16:50:20.259971",
     "status": "completed"
    },
    "tags": []
   },
   "source": [
    "first we have to standardize the features in X"
   ]
  },
  {
   "cell_type": "code",
   "execution_count": 15,
   "metadata": {
    "execution": {
     "iopub.execute_input": "2021-02-23T16:50:20.339437Z",
     "iopub.status.busy": "2021-02-23T16:50:20.338568Z",
     "iopub.status.idle": "2021-02-23T16:50:20.410652Z",
     "shell.execute_reply": "2021-02-23T16:50:20.411172Z"
    },
    "papermill": {
     "duration": 0.102803,
     "end_time": "2021-02-23T16:50:20.411364",
     "exception": false,
     "start_time": "2021-02-23T16:50:20.308561",
     "status": "completed"
    },
    "tags": []
   },
   "outputs": [],
   "source": [
    "from sklearn.model_selection import train_test_split\n",
    "from sklearn.preprocessing import StandardScaler\n",
    "\n",
    "X = df.drop('quality', axis = 1)\n",
    "y = df['quality']\n",
    "\n",
    "scaler = StandardScaler()\n",
    "scaler.fit(X)\n",
    "X = scaler.transform(X)\n"
   ]
  },
  {
   "cell_type": "code",
   "execution_count": 16,
   "metadata": {
    "execution": {
     "iopub.execute_input": "2021-02-23T16:50:20.466922Z",
     "iopub.status.busy": "2021-02-23T16:50:20.466182Z",
     "iopub.status.idle": "2021-02-23T16:50:20.471498Z",
     "shell.execute_reply": "2021-02-23T16:50:20.470936Z"
    },
    "papermill": {
     "duration": 0.03507,
     "end_time": "2021-02-23T16:50:20.471647",
     "exception": false,
     "start_time": "2021-02-23T16:50:20.436577",
     "status": "completed"
    },
    "tags": []
   },
   "outputs": [],
   "source": [
    "X_train, X_test, y_train, y_test = train_test_split(X, y, test_size=0.3, random_state=1)"
   ]
  },
  {
   "cell_type": "markdown",
   "metadata": {
    "papermill": {
     "duration": 0.023938,
     "end_time": "2021-02-23T16:50:20.520127",
     "exception": false,
     "start_time": "2021-02-23T16:50:20.496189",
     "status": "completed"
    },
    "tags": []
   },
   "source": [
    "# Function to evaluate the models"
   ]
  },
  {
   "cell_type": "code",
   "execution_count": 17,
   "metadata": {
    "execution": {
     "iopub.execute_input": "2021-02-23T16:50:20.573886Z",
     "iopub.status.busy": "2021-02-23T16:50:20.573181Z",
     "iopub.status.idle": "2021-02-23T16:50:20.792006Z",
     "shell.execute_reply": "2021-02-23T16:50:20.791321Z"
    },
    "papermill": {
     "duration": 0.247809,
     "end_time": "2021-02-23T16:50:20.792190",
     "exception": false,
     "start_time": "2021-02-23T16:50:20.544381",
     "status": "completed"
    },
    "tags": []
   },
   "outputs": [],
   "source": [
    "from sklearn.metrics import confusion_matrix, accuracy_score\n",
    "\n",
    "from sklearn.linear_model import LogisticRegression\n",
    "from sklearn.tree import DecisionTreeClassifier\n",
    "from sklearn.svm import SVC\n",
    "from sklearn.ensemble import RandomForestClassifier"
   ]
  },
  {
   "cell_type": "code",
   "execution_count": 18,
   "metadata": {
    "execution": {
     "iopub.execute_input": "2021-02-23T16:50:20.848277Z",
     "iopub.status.busy": "2021-02-23T16:50:20.847566Z",
     "iopub.status.idle": "2021-02-23T16:50:20.851182Z",
     "shell.execute_reply": "2021-02-23T16:50:20.850613Z"
    },
    "papermill": {
     "duration": 0.034352,
     "end_time": "2021-02-23T16:50:20.851343",
     "exception": false,
     "start_time": "2021-02-23T16:50:20.816991",
     "status": "completed"
    },
    "tags": []
   },
   "outputs": [],
   "source": [
    "def evaluation(X_train, X_test, y_train, y_test, model):\n",
    "    \n",
    "    model.fit(X_train, y_train)\n",
    "    y_pred = model.predict(X_test)\n",
    "    \n",
    "    accuracy = accuracy_score(y_test, y_pred)\n",
    "    cm  = confusion_matrix(y_test, y_pred)\n",
    "    print(\" Accuracy of the model: \" , accuracy * 100)\n",
    "    print(\" Confusion Matrix: \\n\" , cm)\n",
    "    "
   ]
  },
  {
   "cell_type": "code",
   "execution_count": 19,
   "metadata": {
    "execution": {
     "iopub.execute_input": "2021-02-23T16:50:20.908547Z",
     "iopub.status.busy": "2021-02-23T16:50:20.907790Z",
     "iopub.status.idle": "2021-02-23T16:50:21.354987Z",
     "shell.execute_reply": "2021-02-23T16:50:21.354128Z"
    },
    "papermill": {
     "duration": 0.478685,
     "end_time": "2021-02-23T16:50:21.355178",
     "exception": false,
     "start_time": "2021-02-23T16:50:20.876493",
     "status": "completed"
    },
    "tags": []
   },
   "outputs": [
    {
     "name": "stdout",
     "output_type": "stream",
     "text": [
      "LOGISTIC REGRESSION:\n",
      " Accuracy of the model:  87.70833333333333\n",
      " Confusion Matrix: \n",
      " [[405  20]\n",
      " [ 39  16]]\n",
      "\n",
      "DECISION TREE:\n",
      " Accuracy of the model:  87.29166666666667\n",
      " Confusion Matrix: \n",
      " [[392  33]\n",
      " [ 28  27]]\n",
      "\n",
      "SUPPORT VECTOR MACHINE:\n",
      " Accuracy of the model:  89.375\n",
      " Confusion Matrix: \n",
      " [[412  13]\n",
      " [ 38  17]]\n",
      "\n",
      "RANDOM FOREST:\n",
      " Accuracy of the model:  91.25\n",
      " Confusion Matrix: \n",
      " [[410  15]\n",
      " [ 27  28]]\n"
     ]
    }
   ],
   "source": [
    "# logistic regression\n",
    "print(\"LOGISTIC REGRESSION:\")\n",
    "lr = LogisticRegression()\n",
    "evaluation(X_train, X_test, y_train, y_test, lr)\n",
    "\n",
    "#Decision Tree\n",
    "print(\"\\nDECISION TREE:\")\n",
    "dt = DecisionTreeClassifier()\n",
    "evaluation(X_train, X_test, y_train, y_test, dt)\n",
    "\n",
    "#SVM\n",
    "print(\"\\nSUPPORT VECTOR MACHINE:\")\n",
    "sm = SVC()\n",
    "evaluation(X_train, X_test, y_train, y_test, sm)\n",
    "\n",
    "#Random Forest\n",
    "print(\"\\nRANDOM FOREST:\")\n",
    "rf = RandomForestClassifier()\n",
    "evaluation(X_train, X_test, y_train, y_test, rf)"
   ]
  },
  {
   "cell_type": "markdown",
   "metadata": {
    "papermill": {
     "duration": 0.025232,
     "end_time": "2021-02-23T16:50:21.406483",
     "exception": false,
     "start_time": "2021-02-23T16:50:21.381251",
     "status": "completed"
    },
    "tags": []
   },
   "source": [
    "# Conclusion\n",
    "\n",
    "After comparing the four models, the model with Random Forest Classifier gives the better accuracy with 91 percent."
   ]
  }
 ],
 "metadata": {
  "kernelspec": {
   "display_name": "Python 3",
   "language": "python",
   "name": "python3"
  },
  "language_info": {
   "codemirror_mode": {
    "name": "ipython",
    "version": 3
   },
   "file_extension": ".py",
   "mimetype": "text/x-python",
   "name": "python",
   "nbconvert_exporter": "python",
   "pygments_lexer": "ipython3",
   "version": "3.7.9"
  },
  "papermill": {
   "default_parameters": {},
   "duration": 10.673013,
   "end_time": "2021-02-23T16:50:22.143881",
   "environment_variables": {},
   "exception": null,
   "input_path": "__notebook__.ipynb",
   "output_path": "__notebook__.ipynb",
   "parameters": {},
   "start_time": "2021-02-23T16:50:11.470868",
   "version": "2.2.2"
  }
 },
 "nbformat": 4,
 "nbformat_minor": 4
}
